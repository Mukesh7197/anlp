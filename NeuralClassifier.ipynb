{
 "cells": [
  {
   "cell_type": "markdown",
   "metadata": {},
   "source": [
    "Data Set Information:\n",
    "\n",
    "The dataset provides patient reviews on specific drugs along with related conditions and a 10 star patient rating reflecting overall patient satisfaction. The data was obtained by crawling online pharmaceutical review sites. The intention was to study\n",
    "\n",
    "(1) sentiment analysis of drug experience over multiple facets, i.e. sentiments learned on specific aspects such as effectiveness and side effects, (2) the transferability of models among domains, i.e. conditions, and (3) the transferability of models among different data sources (see 'Drug Review Dataset (Druglib.com)').\n",
    "\n",
    "The data is split into a train (75%) a test (25%) partition (see publication) and stored in two .tsv (tab-separated-values) files, respectively.\n",
    "\n",
    "Link: https://archive.ics.uci.edu/ml/datasets/Drug+Review+Dataset+%28Drugs.com%29\n",
    "\n",
    "Let us do sentiment analysis with the intention of frequent words used while rating lower (2 or 3 or 4)"
   ]
  },
  {
   "cell_type": "code",
   "execution_count": 1,
   "metadata": {},
   "outputs": [],
   "source": [
    "##############################################################################################\n",
    "#                  STEPS IN MULTI CLASS CLASSIFICATION - SENTIMENT ANALYSIS\n",
    "##############################################################################################\n",
    "\n",
    "#STEP ONE: Load libraries and the Training/Testing data\n",
    "\n",
    "#STEP TWO: Data Exploration\n",
    "#          (a) Shape of Training and Testing dataset\n",
    "#          (b) Presence of NAs in the dataset and if found, exclude these rows\n",
    "#          (c) Number of unique entries in each of the columns in the training and testing dataset\n",
    "#          (d) Target variable - Ratings; Features - Reviews in the training dataset\n",
    "#          (e) Check distribution of ratings in the training dataset (Balanced means equitable distribution else imbalanced)\n",
    "#          (f) Top 5 medical conditions and distribution of ratings in the training dataset\n",
    "#          (g) Top 5 drugs and distribution of ratings in the training dataset\n",
    "#          (h) Check for duplicate rows in the dataset and if found, drop these rows\n",
    "#          (i) Explore reviews column - Total words , vocabulary - Original dataset, after dropping NAs, after dropping duplicates\n",
    "\n",
    "#STEP THREE: Data Preprocessing - For each Review\n",
    "#          (a) Check and remove tags, punctuation marks, special characters, numbers\n",
    "#          (b) Check and remove single character, empty and multiple spaces, stop words\n",
    "#          (c) After preprocessing, tokenize the sentences and convert into sequences\n",
    "#          (d) Only reviews pertaining to ratings of 2,3,4 are considered for training \n",
    "\n",
    "#STEP FOUR: Model Selection in Neural Network Classifier \n",
    "#          (a) Basic keras model\n",
    "#          (b) Add GlobalMaxPooling 1D layer\n",
    "#          (c) GloVe Word Embedding (non-trainable)\n",
    "#          (d) GloVe Word Embedding (trainable)\n",
    "#          (e) CNN with vocabulary of 5000\n",
    "#          (f) CNN with corpus vocabulary\n",
    "#          (g) LSTM\n",
    "#          (h) Bidirectional LSTM\n",
    "#          (i) Select best model based on training and validation accuracy\n",
    "\n",
    "#STEP FIVE: Prepare Test data\n",
    "#           (a) Check for NAs and duplicates in test data, if found remove them\n",
    "#           (b) Preprocess the test data so that reviews do not have tags, stop words, punctuation marks, numbers etc.\n",
    "#           (c) Compute total words and vocabulary\n",
    "#           (d) Preprocess the test data in the same way as training data\n",
    "#           (e) Convert test data sentences into sequences like training data\n",
    "\n",
    "#STEP SIX: Evaluate the best model on test data\n",
    "#          (a) Test the model \n",
    "#          (b) Metrics that shall be used: Accuracy\n",
    "#          (c) Prepare classification report"
   ]
  },
  {
   "cell_type": "code",
   "execution_count": 2,
   "metadata": {},
   "outputs": [],
   "source": [
    "##########################################################################################\n",
    "#################STEP ONE: LOAD LIBRARIES, TRAINING AND TEST DATA#########################\n",
    "#########################################################################################"
   ]
  },
  {
   "cell_type": "code",
   "execution_count": 3,
   "metadata": {},
   "outputs": [
    {
     "name": "stdout",
     "output_type": "stream",
     "text": [
      "Pretty printing has been turned OFF\n"
     ]
    }
   ],
   "source": [
    "import numpy as np\n",
    "import pandas as pd\n",
    "import random\n",
    "from functools import reduce\n",
    "import matplotlib.pyplot as plt\n",
    "import re\n",
    "import nltk\n",
    "from nltk.corpus import stopwords\n",
    "from nltk.tokenize import word_tokenize\n",
    "\n",
    "%matplotlib inline\n",
    "%pprint"
   ]
  },
  {
   "cell_type": "code",
   "execution_count": 4,
   "metadata": {},
   "outputs": [],
   "source": [
    "#Load the training data in the dataframe\n",
    "drTrg = pd.read_csv('drugsComTrain_raw.tsv', sep='\\t')\n",
    "\n",
    "#Load the test data in the dataframe\n",
    "drTest = pd.read_csv('drugsComTest_raw.tsv', sep = '\\t')"
   ]
  },
  {
   "cell_type": "code",
   "execution_count": 5,
   "metadata": {},
   "outputs": [],
   "source": [
    "##########################################################################################\n",
    "#################STEP TWO: TRAINING DATA EXPLORATION #####################################\n",
    "##########################################################################################"
   ]
  },
  {
   "cell_type": "code",
   "execution_count": 6,
   "metadata": {},
   "outputs": [
    {
     "data": {
      "text/html": [
       "<div>\n",
       "<style scoped>\n",
       "    .dataframe tbody tr th:only-of-type {\n",
       "        vertical-align: middle;\n",
       "    }\n",
       "\n",
       "    .dataframe tbody tr th {\n",
       "        vertical-align: top;\n",
       "    }\n",
       "\n",
       "    .dataframe thead th {\n",
       "        text-align: right;\n",
       "    }\n",
       "</style>\n",
       "<table border=\"1\" class=\"dataframe\">\n",
       "  <thead>\n",
       "    <tr style=\"text-align: right;\">\n",
       "      <th></th>\n",
       "      <th>Unnamed: 0</th>\n",
       "      <th>drugName</th>\n",
       "      <th>condition</th>\n",
       "      <th>review</th>\n",
       "      <th>rating</th>\n",
       "      <th>date</th>\n",
       "      <th>usefulCount</th>\n",
       "    </tr>\n",
       "  </thead>\n",
       "  <tbody>\n",
       "    <tr>\n",
       "      <th>0</th>\n",
       "      <td>206461</td>\n",
       "      <td>Valsartan</td>\n",
       "      <td>Left Ventricular Dysfunction</td>\n",
       "      <td>\"It has no side effect, I take it in combinati...</td>\n",
       "      <td>9.0</td>\n",
       "      <td>May 20, 2012</td>\n",
       "      <td>27</td>\n",
       "    </tr>\n",
       "    <tr>\n",
       "      <th>1</th>\n",
       "      <td>95260</td>\n",
       "      <td>Guanfacine</td>\n",
       "      <td>ADHD</td>\n",
       "      <td>\"My son is halfway through his fourth week of ...</td>\n",
       "      <td>8.0</td>\n",
       "      <td>April 27, 2010</td>\n",
       "      <td>192</td>\n",
       "    </tr>\n",
       "    <tr>\n",
       "      <th>2</th>\n",
       "      <td>92703</td>\n",
       "      <td>Lybrel</td>\n",
       "      <td>Birth Control</td>\n",
       "      <td>\"I used to take another oral contraceptive, wh...</td>\n",
       "      <td>5.0</td>\n",
       "      <td>December 14, 2009</td>\n",
       "      <td>17</td>\n",
       "    </tr>\n",
       "    <tr>\n",
       "      <th>3</th>\n",
       "      <td>138000</td>\n",
       "      <td>Ortho Evra</td>\n",
       "      <td>Birth Control</td>\n",
       "      <td>\"This is my first time using any form of birth...</td>\n",
       "      <td>8.0</td>\n",
       "      <td>November 3, 2015</td>\n",
       "      <td>10</td>\n",
       "    </tr>\n",
       "    <tr>\n",
       "      <th>4</th>\n",
       "      <td>35696</td>\n",
       "      <td>Buprenorphine / naloxone</td>\n",
       "      <td>Opiate Dependence</td>\n",
       "      <td>\"Suboxone has completely turned my life around...</td>\n",
       "      <td>9.0</td>\n",
       "      <td>November 27, 2016</td>\n",
       "      <td>37</td>\n",
       "    </tr>\n",
       "  </tbody>\n",
       "</table>\n",
       "</div>"
      ],
      "text/plain": [
       "   Unnamed: 0                  drugName                     condition  \\\n",
       "0      206461                 Valsartan  Left Ventricular Dysfunction   \n",
       "1       95260                Guanfacine                          ADHD   \n",
       "2       92703                    Lybrel                 Birth Control   \n",
       "3      138000                Ortho Evra                 Birth Control   \n",
       "4       35696  Buprenorphine / naloxone             Opiate Dependence   \n",
       "\n",
       "                                              review  rating  \\\n",
       "0  \"It has no side effect, I take it in combinati...     9.0   \n",
       "1  \"My son is halfway through his fourth week of ...     8.0   \n",
       "2  \"I used to take another oral contraceptive, wh...     5.0   \n",
       "3  \"This is my first time using any form of birth...     8.0   \n",
       "4  \"Suboxone has completely turned my life around...     9.0   \n",
       "\n",
       "                date  usefulCount  \n",
       "0       May 20, 2012           27  \n",
       "1     April 27, 2010          192  \n",
       "2  December 14, 2009           17  \n",
       "3   November 3, 2015           10  \n",
       "4  November 27, 2016           37  "
      ]
     },
     "execution_count": 6,
     "metadata": {},
     "output_type": "execute_result"
    }
   ],
   "source": [
    "#Check top 5 entries in the training dataframe\n",
    "drTrg.head()"
   ]
  },
  {
   "cell_type": "code",
   "execution_count": 7,
   "metadata": {},
   "outputs": [
    {
     "name": "stdout",
     "output_type": "stream",
     "text": [
      "Shape of the drugsCom Training dataset:  (161297, 7)\n",
      "\n",
      "Number of unique drug names in the Training dataset:  3436\n",
      "Unique medical conditions in the Training dataset:  885\n",
      "Unique review in the Training dataset:  112329\n",
      "Unique rating in the Training dataset:  [1.0, 2.0, 3.0, 4.0, 5.0, 6.0, 7.0, 8.0, 9.0, 10.0]\n",
      "\n",
      "Shape of the drugsCom Training dataset without NAs:  (160398, 7)\n"
     ]
    }
   ],
   "source": [
    "#Shape of the training dataframe: (161297, 7); NAs - 899\n",
    "print(\"Shape of the drugsCom Training dataset: \", drTrg.shape)\n",
    "#print(\"\\nNAs in the drugsCom Training dataset: \", drTrg.isna().sum())\n",
    "\n",
    "#Number of unique drug names - 3436\n",
    "print(\"\\nNumber of unique drug names in the Training dataset: \", len(drTrg[\"drugName\"].unique()))\n",
    "\n",
    "#Number of unique conditions - 885; NAs - 899\n",
    "print(\"Unique medical conditions in the Training dataset: \", len(drTrg[\"condition\"].unique()))\n",
    "\n",
    "#Number of unique reviews - 112329; NAs - 0\n",
    "print(\"Unique review in the Training dataset: \", len(drTrg[\"review\"].unique()))\n",
    "\n",
    "#Number of ratings - 10 (1.0 to 10.0); NAs - 0\n",
    "print(\"Unique rating in the Training dataset: \", sorted(drTrg[\"rating\"].unique()))\n",
    "\n",
    "#Drop rows containing NAs\n",
    "drTrgWithoutNA = drTrg.dropna()\n",
    "\n",
    "#Shape of the dataframe without NAs (160398,7)\n",
    "print(\"\\nShape of the drugsCom Training dataset without NAs: \", drTrgWithoutNA.shape)"
   ]
  },
  {
   "cell_type": "code",
   "execution_count": 8,
   "metadata": {},
   "outputs": [
    {
     "data": {
      "image/png": "[encoded data removed]",
      "text/plain": [
       "<Figure size 432x288 with 1 Axes>"
      ]
     },
     "metadata": {
      "needs_background": "light"
     },
     "output_type": "display_data"
    }
   ],
   "source": [
    "#Ratings histogram of the training dataset\n",
    "plt.hist(drTrg['rating'],10)\n",
    "plt.title(\"Frequency of ratings in Training dataset\")\n",
    "plt.xlabel(\"Ratings\")\n",
    "plt.ylabel(\"Frequency\")\n",
    "plt.show()\n",
    "\n",
    "#Ratings are not uniformly distributed (imbalanced data). Learning from imbalanced data is hard\n",
    "#Consider ratings of 2,3 and 4 only "
   ]
  },
  {
   "cell_type": "code",
   "execution_count": 9,
   "metadata": {},
   "outputs": [
    {
     "name": "stdout",
     "output_type": "stream",
     "text": [
      "Shape of the drugsCom Training dataset for poor ratings:  (18324, 7)\n",
      "Number of unique drug names for poor ratings:  1567\n",
      "Unique medical conditions for poor ratings:  446\n",
      "Unique review for poor ratings:  12713\n",
      "Unique ratings:  [2.0, 3.0, 4.0]\n"
     ]
    }
   ],
   "source": [
    "#Subset the dataframe to obtain rows pertaining to ratings of 2,3 and 4 only\n",
    "\n",
    "drTrgTop3 = drTrgWithoutNA.loc[(drTrgWithoutNA[\"rating\"] == 2.0)  | (drTrgWithoutNA['rating'] == 3.0) | (drTrgWithoutNA['rating'] == 4.0)] #(18324,7)\n",
    "print(\"Shape of the drugsCom Training dataset for poor ratings: \", drTrgTop3.shape) #(18324,7)\n",
    "\n",
    "#Number of unique drug names - 1567\n",
    "print(\"Number of unique drug names for poor ratings: \", len(drTrgTop3[\"drugName\"].unique()))\n",
    "\n",
    "#Number of unique conditions - 446\n",
    "print(\"Unique medical conditions for poor ratings: \", len(drTrgTop3[\"condition\"].unique()))\n",
    "\n",
    "#Number of unique reviews - 12713\n",
    "print(\"Unique review for poor ratings: \", len(drTrgTop3[\"review\"].unique()))\n",
    "\n",
    "#Number of ratings - 3 (2.0, 3.0, 4.0)\n",
    "print(\"Unique ratings: \", sorted(drTrgTop3[\"rating\"].unique()))"
   ]
  },
  {
   "cell_type": "code",
   "execution_count": 10,
   "metadata": {},
   "outputs": [
    {
     "data": {
      "image/png": "[encoded data removed]",
      "text/plain": [
       "<Figure size 432x288 with 1 Axes>"
      ]
     },
     "metadata": {
      "needs_background": "light"
     },
     "output_type": "display_data"
    }
   ],
   "source": [
    "#Ratings histogram of the training dataset\n",
    "plt.hist(drTrgTop3['rating'],3)\n",
    "plt.title(\"Frequency of ratings in Training dataset\")\n",
    "plt.xlabel(\"Ratings\")\n",
    "plt.xticks(np.arange(2, 5, step=1))\n",
    "plt.ylabel(\"Frequency\")\n",
    "plt.show()\n",
    "\n",
    "#Though imbalanced, ratings are in the range of 5000-7000"
   ]
  },
  {
   "cell_type": "code",
   "execution_count": 11,
   "metadata": {},
   "outputs": [],
   "source": [
    "#Function that accepts a dataframe and accepts two values for which frequency is to be found (col1, col2)\n",
    "#and returns a dataframe with col3 and col4 as new column names\n",
    "def valueCounts(data, col1, col2, col3, col4):\n",
    "    \n",
    "    getDF = data[[col1,col2]]\n",
    "        \n",
    "    newDF = pd.DataFrame(getDF[col1].value_counts())            #Get value counts and store in a dataframe\n",
    "    newDF[col3] = newDF.index                                   #New column based on index\n",
    "    newDF.rename(columns = {col1:col4}, inplace = True)         #Rename column \n",
    "    newDF = newDF[[col3, col4]]                                 #Rearrange columns in the dataframe\n",
    "    newDF.reset_index(drop=True, inplace = True)                #Drop the index name\n",
    "    \n",
    "    return newDF"
   ]
  },
  {
   "cell_type": "code",
   "execution_count": 12,
   "metadata": {},
   "outputs": [
    {
     "data": {
      "image/png": "[encoded data removed]",
      "text/plain": [
       "<Figure size 1080x360 with 2 Axes>"
      ]
     },
     "metadata": {
      "needs_background": "light"
     },
     "output_type": "display_data"
    }
   ],
   "source": [
    "#let us subset the training data to explore for medical conditions and its ratings\n",
    "\n",
    "#Call the function valueCounts\n",
    "cond = valueCounts(drTrgTop3, \"condition\", \"rating\", \"cond\", \"Frequency\")\n",
    "cond = cond.iloc[:5]                                             #Top 5 medical conditions\n",
    "\n",
    "#Ratings for top medical condition (Birth Control)\n",
    "topCond = drTrgTop3[drTrgTop3[\"condition\"] == 'Birth Control']\n",
    "\n",
    "ratTopCond = valueCounts(topCond, \"rating\", \"review\",\"ratings\",\"Frequency\")\n",
    "\n",
    "#Plot barchart for top 5 medical conditions and ratings for the top condition in training dataset\n",
    "fig, (ax1, ax2) =plt.subplots(ncols=2, figsize = (15,5))\n",
    "ax1.bar(cond[\"cond\"], cond[\"Frequency\"], color = 'r')\n",
    "ax1.set_xlabel(\"Medical condition\")\n",
    "ax1.set_ylabel(\"Frequency\")\n",
    "ax1.set_title(\"Top 5 medical condition in the training dataset\")\n",
    "ax2.bar(ratTopCond[\"ratings\"], ratTopCond[\"Frequency\"], color = 'c')\n",
    "ax2.set_xlabel(\"Ratings\")\n",
    "ax2.set_ylabel(\"Frequency\")\n",
    "ax2.set_title(\"Ratings distribution of Birth Control in the training dataset\")\n",
    "fig.tight_layout()\n",
    "\n",
    "#Birth control is the top medical condition in the training dataset\n",
    "#Ratings distribution of birth control is not uniform in the training dataset"
   ]
  },
  {
   "cell_type": "code",
   "execution_count": 13,
   "metadata": {},
   "outputs": [
    {
     "data": {
      "image/png": "[encoded data removed]",
      "text/plain": [
       "<Figure size 1080x360 with 2 Axes>"
      ]
     },
     "metadata": {
      "needs_background": "light"
     },
     "output_type": "display_data"
    }
   ],
   "source": [
    "#let us subset the training data to explore drugs utilised and its ratings\n",
    "\n",
    "#call the function valueCounts\n",
    "drug = valueCounts(drTrgTop3, \"drugName\", \"rating\", \"drug\", \"Frequency\")\n",
    "\n",
    "drugTop5 = drug.iloc[:5]   #Top 5 drug name occurence in the dataframe\n",
    "drugLast5 = drug.iloc[:-5] #Last 5 drug name occurence in the dataframe\n",
    "\n",
    "\n",
    "#Ratings for top drug (Etonogestrel)\n",
    "topDrug = drTrgTop3[drTrgTop3[\"drugName\"] == 'Etonogestrel']\n",
    "\n",
    "#Call the function valueCounts \n",
    "ratTopDrug = valueCounts(topDrug, \"rating\", \"review\",\"ratings\",\"Frequency\")\n",
    "\n",
    "#Plot barchart for top 5 medical conditions and ratings for the top condition in training dataset\n",
    "fig, (ax1, ax2) =plt.subplots(ncols=2, figsize = (15,5))\n",
    "ax1.bar(drugTop5[\"drug\"], drugTop5[\"Frequency\"], color = 'b')\n",
    "ax1.set_xlabel(\"Drug Name\")\n",
    "ax1.set_ylabel(\"Frequency\")\n",
    "ax1.set_title(\"Frequently used Drugs in the training dataset\")\n",
    "ax2.bar(ratTopDrug[\"ratings\"], ratTopCond[\"Frequency\"], color = 'y')\n",
    "ax2.set_xlabel(\"Ratings\")\n",
    "ax2.set_ylabel(\"Frequency\")\n",
    "ax2.set_title(\"Ratings distribution of Drug Etonogestrel in the training dataset\")\n",
    "fig.tight_layout()\n",
    "\n",
    "#Rating distribution of most frequently used drug used is not uniform  in the training dataset"
   ]
  },
  {
   "cell_type": "code",
   "execution_count": 14,
   "metadata": {},
   "outputs": [
    {
     "name": "stdout",
     "output_type": "stream",
     "text": [
      "['\"2nd day on 5mg started to work with rock hard erections however experianced headache, lower bowel preassure. 3rd day erections would wake me up &amp; hurt! Leg/ankles aches   severe lower bowel preassure like you need to go #2 but can&#039;t! Enjoyed the initial rockhard erections but not at these side effects or $230 for months supply! I&#039;m 50 &amp; work out 3Xs a week. Not worth side effects!\"', '\"I had Crohn&#039;s with a resection 30 years ago and have been mostly in remission since.  Have recently had a bad flare and narrowing at the anastomosis and need to be on medication, but haven&#039;t found one that I can handle.  Asacol gave me such serious body aching and fatigue that I could not function.  Pentasa immediately gave me heart palpitations and arrhythmias so I had to discontinue it.\"']\n"
     ]
    }
   ],
   "source": [
    "#Let us explore the review column in the training dataframe\n",
    "print(list(drTrgTop3[\"review\"].head(2)))\n",
    "\n",
    "#Review contains special characters, sentence case, spelling mistakes, short forms, tags etc."
   ]
  },
  {
   "cell_type": "code",
   "execution_count": 15,
   "metadata": {},
   "outputs": [
    {
     "name": "stdout",
     "output_type": "stream",
     "text": [
      "Shape of the dataset:  (18324, 7)\n",
      "Number of unique reviews:  12713\n"
     ]
    }
   ],
   "source": [
    "print(\"Shape of the dataset: \", drTrgTop3.shape) #18324\n",
    "print(\"Number of unique reviews: \", len(drTrgTop3[\"review\"].unique())) #12713\n",
    "\n",
    "#All reviews are not unique. Out of 18324 reviews only 12713 are unique."
   ]
  },
  {
   "cell_type": "code",
   "execution_count": 16,
   "metadata": {},
   "outputs": [
    {
     "data": {
      "text/html": [
       "<div>\n",
       "<style scoped>\n",
       "    .dataframe tbody tr th:only-of-type {\n",
       "        vertical-align: middle;\n",
       "    }\n",
       "\n",
       "    .dataframe tbody tr th {\n",
       "        vertical-align: top;\n",
       "    }\n",
       "\n",
       "    .dataframe thead th {\n",
       "        text-align: right;\n",
       "    }\n",
       "</style>\n",
       "<table border=\"1\" class=\"dataframe\">\n",
       "  <thead>\n",
       "    <tr style=\"text-align: right;\">\n",
       "      <th></th>\n",
       "      <th>reviews</th>\n",
       "      <th>Frequency</th>\n",
       "    </tr>\n",
       "  </thead>\n",
       "  <tbody>\n",
       "    <tr>\n",
       "      <th>0</th>\n",
       "      <td>\"Did not work well for me.\"</td>\n",
       "      <td>6</td>\n",
       "    </tr>\n",
       "    <tr>\n",
       "      <th>1</th>\n",
       "      <td>\"Limited improvement after 6 months, developed...</td>\n",
       "      <td>3</td>\n",
       "    </tr>\n",
       "    <tr>\n",
       "      <th>3735</th>\n",
       "      <td>\"I didn&amp;#039;t really have a chance to find ou...</td>\n",
       "      <td>2</td>\n",
       "    </tr>\n",
       "    <tr>\n",
       "      <th>3743</th>\n",
       "      <td>\"I switched to the Nuvaring about 3 weeks ago ...</td>\n",
       "      <td>2</td>\n",
       "    </tr>\n",
       "    <tr>\n",
       "      <th>3742</th>\n",
       "      <td>\"Did not help with much pain maybe a slight bi...</td>\n",
       "      <td>2</td>\n",
       "    </tr>\n",
       "  </tbody>\n",
       "</table>\n",
       "</div>"
      ],
      "text/plain": [
       "                                                reviews  Frequency\n",
       "0                           \"Did not work well for me.\"          6\n",
       "1     \"Limited improvement after 6 months, developed...          3\n",
       "3735  \"I didn&#039;t really have a chance to find ou...          2\n",
       "3743  \"I switched to the Nuvaring about 3 weeks ago ...          2\n",
       "3742  \"Did not help with much pain maybe a slight bi...          2"
      ]
     },
     "execution_count": 16,
     "metadata": {},
     "output_type": "execute_result"
    }
   ],
   "source": [
    "#Check whether for every unique review, the ratings are same\n",
    "\n",
    "#Get value counts for each review in a dataframe \n",
    "rvwCnt = valueCounts(drTrgTop3, \"review\", \"rating\", \"reviews\", \"Frequency\")\n",
    "\n",
    "#Sort them by frequency counts\n",
    "rvwCntSorted = rvwCnt.sort_values(by = 'Frequency', ascending = False)\n",
    "\n",
    "rvwCntSorted.head(5)"
   ]
  },
  {
   "cell_type": "code",
   "execution_count": 17,
   "metadata": {},
   "outputs": [
    {
     "data": {
      "text/html": [
       "<div>\n",
       "<style scoped>\n",
       "    .dataframe tbody tr th:only-of-type {\n",
       "        vertical-align: middle;\n",
       "    }\n",
       "\n",
       "    .dataframe tbody tr th {\n",
       "        vertical-align: top;\n",
       "    }\n",
       "\n",
       "    .dataframe thead th {\n",
       "        text-align: right;\n",
       "    }\n",
       "</style>\n",
       "<table border=\"1\" class=\"dataframe\">\n",
       "  <thead>\n",
       "    <tr style=\"text-align: right;\">\n",
       "      <th></th>\n",
       "      <th>Unnamed: 0</th>\n",
       "      <th>drugName</th>\n",
       "      <th>condition</th>\n",
       "      <th>review</th>\n",
       "      <th>rating</th>\n",
       "      <th>date</th>\n",
       "      <th>usefulCount</th>\n",
       "    </tr>\n",
       "  </thead>\n",
       "  <tbody>\n",
       "    <tr>\n",
       "      <th>17022</th>\n",
       "      <td>17180</td>\n",
       "      <td>Flexeril</td>\n",
       "      <td>Migraine</td>\n",
       "      <td>\"Did not work well for me.\"</td>\n",
       "      <td>2.0</td>\n",
       "      <td>February 10, 2010</td>\n",
       "      <td>13</td>\n",
       "    </tr>\n",
       "    <tr>\n",
       "      <th>25049</th>\n",
       "      <td>193388</td>\n",
       "      <td>Cyclobenzaprine</td>\n",
       "      <td>Migraine</td>\n",
       "      <td>\"Did not work well for me.\"</td>\n",
       "      <td>3.0</td>\n",
       "      <td>March 6, 2010</td>\n",
       "      <td>13</td>\n",
       "    </tr>\n",
       "    <tr>\n",
       "      <th>34776</th>\n",
       "      <td>193541</td>\n",
       "      <td>Cyclobenzaprine</td>\n",
       "      <td>Migraine</td>\n",
       "      <td>\"Did not work well for me.\"</td>\n",
       "      <td>2.0</td>\n",
       "      <td>February 10, 2010</td>\n",
       "      <td>13</td>\n",
       "    </tr>\n",
       "    <tr>\n",
       "      <th>88692</th>\n",
       "      <td>193542</td>\n",
       "      <td>Cyclobenzaprine</td>\n",
       "      <td>Migraine</td>\n",
       "      <td>\"Did not work well for me.\"</td>\n",
       "      <td>4.0</td>\n",
       "      <td>February 10, 2010</td>\n",
       "      <td>8</td>\n",
       "    </tr>\n",
       "    <tr>\n",
       "      <th>106669</th>\n",
       "      <td>158364</td>\n",
       "      <td>Amrix</td>\n",
       "      <td>Migraine</td>\n",
       "      <td>\"Did not work well for me.\"</td>\n",
       "      <td>3.0</td>\n",
       "      <td>March 6, 2010</td>\n",
       "      <td>13</td>\n",
       "    </tr>\n",
       "    <tr>\n",
       "      <th>150280</th>\n",
       "      <td>158366</td>\n",
       "      <td>Amrix</td>\n",
       "      <td>Migraine</td>\n",
       "      <td>\"Did not work well for me.\"</td>\n",
       "      <td>4.0</td>\n",
       "      <td>February 10, 2010</td>\n",
       "      <td>8</td>\n",
       "    </tr>\n",
       "  </tbody>\n",
       "</table>\n",
       "</div>"
      ],
      "text/plain": [
       "        Unnamed: 0         drugName condition                       review  \\\n",
       "17022        17180         Flexeril  Migraine  \"Did not work well for me.\"   \n",
       "25049       193388  Cyclobenzaprine  Migraine  \"Did not work well for me.\"   \n",
       "34776       193541  Cyclobenzaprine  Migraine  \"Did not work well for me.\"   \n",
       "88692       193542  Cyclobenzaprine  Migraine  \"Did not work well for me.\"   \n",
       "106669      158364            Amrix  Migraine  \"Did not work well for me.\"   \n",
       "150280      158366            Amrix  Migraine  \"Did not work well for me.\"   \n",
       "\n",
       "        rating               date  usefulCount  \n",
       "17022      2.0  February 10, 2010           13  \n",
       "25049      3.0      March 6, 2010           13  \n",
       "34776      2.0  February 10, 2010           13  \n",
       "88692      4.0  February 10, 2010            8  \n",
       "106669     3.0      March 6, 2010           13  \n",
       "150280     4.0  February 10, 2010            8  "
      ]
     },
     "execution_count": 17,
     "metadata": {},
     "output_type": "execute_result"
    }
   ],
   "source": [
    "#Check ratings for \"Did not work well for me\"\n",
    "dnw = drTrgTop3[drTrgTop3[\"review\"].str.contains(\"Did not work well for me\")]\n",
    "dnw.head(6)\n",
    "\n",
    "#For the same review, ratings are different; two each for 2.0, 3.0 and 4.0. These reviews cannot be dropped.\n",
    "#Observe for the same medical condition of migraine, drugName of cyclobenzaprine and for the same review, ratings are different \n",
    "#THIS WILL CREATE CHALLENGES IN MODEL CREATION, TESTING AND EVALUATION "
   ]
  },
  {
   "cell_type": "code",
   "execution_count": 18,
   "metadata": {},
   "outputs": [
    {
     "name": "stdout",
     "output_type": "stream",
     "text": [
      "Shape of dataframe with unique reviews:  (12713, 7)\n"
     ]
    }
   ],
   "source": [
    "#Drop duplicate rows as it does not contribute to training\n",
    "\n",
    "#Sort the drTrgWithoutNA dataframe by rating\n",
    "drTrgNoDup = drTrgTop3.sort_values('rating')\n",
    "\n",
    "#Subset the dataframe by review and drop duplicate reviews by keeping the original\n",
    "drTrgNoDup = drTrgNoDup.drop_duplicates(subset = 'review', keep = 'first')\n",
    "\n",
    "#Shape of the unique reviews dataframe\n",
    "print(\"Shape of dataframe with unique reviews: \", drTrgNoDup.shape) #12713 rows "
   ]
  },
  {
   "cell_type": "code",
   "execution_count": 19,
   "metadata": {},
   "outputs": [
    {
     "data": {
      "image/png": "[encoded data removed]",
      "text/plain": [
       "<Figure size 432x288 with 1 Axes>"
      ]
     },
     "metadata": {
      "needs_background": "light"
     },
     "output_type": "display_data"
    }
   ],
   "source": [
    "#Ratings histogram of the training dataset\n",
    "plt.hist(drTrgNoDup['rating'],3)\n",
    "plt.title(\"Frequency of ratings in Training dataset after dropping duplicate rows\")\n",
    "plt.xlabel(\"Ratings\")\n",
    "plt.xticks(np.arange(2, 5, step=1))\n",
    "plt.ylabel(\"Frequency\")\n",
    "plt.show()\n",
    "\n",
    "#Though imbalanced, ratings are in the range of 3500-5000"
   ]
  },
  {
   "cell_type": "code",
   "execution_count": 20,
   "metadata": {},
   "outputs": [],
   "source": [
    "#Function to calculate the total number of words and vocabulary of a column in a dataframe or a list \n",
    "def WordsVocabCountDF(data):\n",
    "    \n",
    "    if isinstance(data, list):\n",
    "        rowList = data\n",
    "    else:\n",
    "        rowList = data.tolist()          #Convert the dataframe column to a list\n",
    "    words = []                      #Create an empty list\n",
    "    for i in range(len(rowList)):   #For each row of the dataframe\n",
    "        sents = rowList[i].split('.') #Get the entire sentence\n",
    "        for j in range(len(sents)):   #For each sentence\n",
    "            word = sents[j].split(' ') #Get all the words\n",
    "            words.extend(word)         #Add the words to the list\n",
    "    \n",
    "    totWords = len(words) #Total number of Words \n",
    "    vocab = len(set(words)) #Returns vocabulary\n",
    "    \n",
    "    return totWords, vocab "
   ]
  },
  {
   "cell_type": "code",
   "execution_count": 21,
   "metadata": {},
   "outputs": [
    {
     "name": "stdout",
     "output_type": "stream",
     "text": [
      "Number of words in the training corpus after dropping NAs for all ratings:  14696506\n",
      "Vocabulary of the training corpus after dropping NAs for all ratings:  155524\n",
      "\n",
      "Number of words in the training corpus - for poor ratings (2.0 to 4.0):  1670751\n",
      "Vocabulary of the training corpus - for poor ratings(2.0 to 4.0):  38613\n"
     ]
    }
   ],
   "source": [
    "#Words and Vocabulary of the training corpus \n",
    "\n",
    "#Call the function WordsVocabCount\n",
    "totWordsNA, vocabNA = WordsVocabCountDF(drTrgWithoutNA[\"review\"])\n",
    "\n",
    "print(\"Number of words in the training corpus after dropping NAs for all ratings: \", totWordsNA) #1,46,96,506 ( > 1.46 Cr words)\n",
    "print(\"Vocabulary of the training corpus after dropping NAs for all ratings: \", vocabNA) #1,55,524 (> 1.5 lakh words)\n",
    "\n",
    "\n",
    "totWordsTop3, vocabTop3 = WordsVocabCountDF(drTrgTop3[\"review\"])\n",
    "      \n",
    "print(\"\\nNumber of words in the training corpus - for poor ratings (2.0 to 4.0): \", totWordsTop3) #16,70,751 (> 16 Lakh words)\n",
    "print(\"Vocabulary of the training corpus - for poor ratings(2.0 to 4.0): \", vocabTop3) #38,613 (>38,000 words)"
   ]
  },
  {
   "cell_type": "code",
   "execution_count": 22,
   "metadata": {},
   "outputs": [
    {
     "name": "stdout",
     "output_type": "stream",
     "text": [
      "Number of words in the first 5 poor reviews:  [72, 76, 118, 150, 165]\n",
      "Total number of words in poor reviews:  1670751\n",
      "Total number of poor reviews:  18324\n",
      "Average words in a poor review:  91.18 ; max word length:  1956 ; min word length:  1\n"
     ]
    }
   ],
   "source": [
    "#Find the average word length of a poor review\n",
    "\n",
    "revList = drTrgTop3[\"review\"].tolist()\n",
    "\n",
    "#To check the number of words in a review\n",
    "sumCnt = []\n",
    "for texts in revList:                 #For every review\n",
    "    sents = texts.split('.')          #Get the sentences\n",
    "    cnt = 0                           #Counter for words\n",
    "    for text in sents:                #For every sentence\n",
    "        words = text.split(' ')       #Get the words\n",
    "        wl = len(words)               #Number of words in the sentence\n",
    "        cnt = cnt + wl                #Total words in the review\n",
    "    sumCnt.append(cnt)                #Store total words in the review in a list\n",
    "\n",
    "print(\"Number of words in the first 5 poor reviews: \", sumCnt[:5])\n",
    "print(\"Total number of words in poor reviews: \", sum(sumCnt))\n",
    "print(\"Total number of poor reviews: \", len(sumCnt))\n",
    "print(\"Average words in a poor review: \", round(sum(sumCnt)/len(sumCnt),2), \"; max word length: \", max(sumCnt), \n",
    "      \"; min word length: \", min(sumCnt)) #Average words in a review: 91.18 words"
   ]
  },
  {
   "cell_type": "code",
   "execution_count": 23,
   "metadata": {},
   "outputs": [],
   "source": [
    "##########################################################################################\n",
    "######################### STEP THREE: PREPROCESSING ######################################\n",
    "##########################################################################################"
   ]
  },
  {
   "cell_type": "code",
   "execution_count": 24,
   "metadata": {},
   "outputs": [],
   "source": [
    "TAG_RE = re.compile(r'<[^>]+>')\n",
    "\n",
    "def remove_tags(text):\n",
    "    return TAG_RE.sub('', text)"
   ]
  },
  {
   "cell_type": "code",
   "execution_count": 25,
   "metadata": {},
   "outputs": [],
   "source": [
    "def preprocess_text(sen):\n",
    "    # Removing tags\n",
    "    sentence = remove_tags(sen)\n",
    "     # sentence = re.sub('<[^>]*>', '', sen)\n",
    "\n",
    "    # Remove punctuations and numbers\n",
    "    sentence = re.sub('[^a-zA-Z]', ' ', sentence)\n",
    "\n",
    "    # Single character removal\n",
    "    sentence = re.sub(r\"\\s+[a-zA-Z]\\s+\", ' ', sentence)\n",
    "\n",
    "    # Removing multiple spaces\n",
    "    sentence = re.sub(r'\\s+', ' ', sentence)\n",
    "    \n",
    "    #Convert to lowercase\n",
    "    sentence = sentence.lower()\n",
    "     \n",
    "    return sentence"
   ]
  },
  {
   "cell_type": "code",
   "execution_count": 26,
   "metadata": {},
   "outputs": [],
   "source": [
    "#Preprocess the reviews in the training data \n",
    "StepOne = []\n",
    "sentences = list(drTrgTop3['review'])\n",
    "for sen in sentences:\n",
    "    StepOne.append(preprocess_text(sen))"
   ]
  },
  {
   "cell_type": "code",
   "execution_count": 27,
   "metadata": {},
   "outputs": [
    {
     "name": "stdout",
     "output_type": "stream",
     "text": [
      "[' nd day on mg started to work with rock hard erections however experianced headache lower bowel preassure rd day erections would wake me up amp hurt leg ankles aches severe lower bowel preassure like you need to go but can enjoyed the initial rockhard erections but not at these side effects or for months supply m amp work out xs week not worth side effects ', ' had crohn with resection years ago and have been mostly in remission since have recently had bad flare and narrowing at the anastomosis and need to be on medication but haven found one that can handle asacol gave me such serious body aching and fatigue that could not function pentasa immediately gave me heart palpitations and arrhythmias so had to discontinue it ', ' have little bit of lingering cough from cold not giving me much trouble except keeps me up at night heard this was good so took so could get some sleep helped tremendously with the cough but then was having bad stomach cramps and diarrhea hadn eaten anything that should have upset my stomach and it didn really feel like quot bug quot so looked up side effects for delsym now wish had done that first because probably wouldn have taken it so while it worked for my cough still didn get any sleep due to the stomach issues ', ' started nexplanon months ago because have minimal amount of contraception i can take due to my inability to take the hormone that is used in most birth controls m trying to give it time because it is one of my only options right now but honestly if had options d get it removed ve never had acne problems in my life and immediately broke out after getting it implanted sex drive is completely gone and used to have sex with my boyfriend few days week now its completely forced and not even fun for me anymore mean m on birth control because like having sex but don want to get pregnant why take birth control that takes away sex very unhappy and hope that get it back with time or m getting it removed ', ' have taken this at least times for the last years have had major problems with it since the first time causing me major fatigue the last time took it was year ago and had very severe cramps and not having enough time to get to the bathroom went to the hospital and the doctor said it didn work good enough so he had me go home and do second round went back the next day and did the process with no energy had to do it last night and it was even worse than the other times was gagging it down and up all night with severe cramps tried the second dose in the morning and just about started throwing up so called the office and they said to stop once the doctor was done he said it didn evacuate enough ', ' my gp started me on venlafaxine yesterday to help with depression and the change hour after taking them was feeling very sick couldn stomach food or fluids thought keep it up as she told me they did come with some side effects which would get better took another one last night and was so ill couldn stand being sick sweating shaking thought was going to pass out did get some sleep hopeing to feel better this morning took another one and felt so spaced out dry mouth shaking sick so booked in to see gp again to make sure should be feeling like this only to find out she had put me on the wrong dose should have been on mg was put on mg now on right dose hope this will be better ', ' year old male uk normally would go every hour even when drinking very small amounts of water or drinks took this medication for only two weeks noticed right away would go less often to the toilet and it was much easier to dispense the urine unfortunately had to stop taking this as the medications side effects outweighed the benefits found that would have incredibly intense mood swings aggression feel clumsy and dizzy all the time blurry vision memory problems or mind blanks runny nose weakness tiredness am now trying betmiga lets see ', ' never again after being on depo was suppose to an ideal candidate the first months was ok bit moody but fine no weight gain but then something changed was constantly bleeding and getting horrible hormone spots normally have clear skin mood swings were increasing after months decided to have it taken out and that was an ordeal they can very tricky for the doc remove so anesthetics and few stitches later its out it simply not worth the hassle ', ' was put on yasmin for months to regulate my cycle and reduce acne flare ups and it was the worst months of my life gained lbs that did not come off easily after stopping the pill experienced horrible mood swings had heavier periods acne breakouts breakthrough bleeding and was nauseous all the time this pill seems to agree with most people but it definitely did not agree with me went on femcon year after stopping yasmin and experienced virtually no side effects ', ' it caused me to gain pounds ']\n"
     ]
    }
   ],
   "source": [
    "print(StepOne[:10])"
   ]
  },
  {
   "cell_type": "code",
   "execution_count": 28,
   "metadata": {},
   "outputs": [
    {
     "name": "stdout",
     "output_type": "stream",
     "text": [
      "Number of reviews:  18324\n",
      "\n",
      "Number of words in the training corpus - after Step One preprocessing:  1443998\n",
      "Vocabulary of the training corpus - after Step One preprocessing:  16257\n"
     ]
    }
   ],
   "source": [
    "#Check total number of words and vocabulary after preprocessing step one\n",
    "print(\"Number of reviews: \", len(StepOne)) #18324\n",
    "\n",
    "totWordsPP1, vocabPP1 = WordsVocabCountDF(StepOne)\n",
    "\n",
    "print(\"\\nNumber of words in the training corpus - after Step One preprocessing: \", totWordsPP1) #14,43,998 (Almost 14 Lakh words)\n",
    "print(\"Vocabulary of the training corpus - after Step One preprocessing: \", vocabPP1) #16,257 (> 16,257 words)\n",
    "\n",
    "#Vocabulary reduced by half while corpus has reduced by 2 lakh words"
   ]
  },
  {
   "cell_type": "code",
   "execution_count": 29,
   "metadata": {},
   "outputs": [
    {
     "data": {
      "text/plain": [
       "False"
      ]
     },
     "execution_count": 29,
     "metadata": {},
     "output_type": "execute_result"
    }
   ],
   "source": [
    "#Check for empty strings\n",
    "'' in StepOne"
   ]
  },
  {
   "cell_type": "code",
   "execution_count": 30,
   "metadata": {},
   "outputs": [],
   "source": [
    "def removeStopWords(sentence):\n",
    "    \n",
    "    word_tokens = word_tokenize(sentence)\n",
    "    \n",
    "    stop_words = set(stopwords.words('english'))\n",
    "        \n",
    "    sentence = [ w for w in word_tokens if not w in stop_words]\n",
    "    \n",
    "    sentence = ' '.join(sentence)\n",
    "    \n",
    "    return sentence"
   ]
  },
  {
   "cell_type": "code",
   "execution_count": 31,
   "metadata": {},
   "outputs": [],
   "source": [
    "#Remove stop words from preprocessed text. #Takes few minutes to execute\n",
    "StepTwo = []\n",
    "sentences = StepOne\n",
    "for sen in sentences:\n",
    "    StepTwo.append(removeStopWords(sen))"
   ]
  },
  {
   "cell_type": "code",
   "execution_count": 32,
   "metadata": {},
   "outputs": [
    {
     "name": "stdout",
     "output_type": "stream",
     "text": [
      "['nd day mg started work rock hard erections however experianced headache lower bowel preassure rd day erections would wake amp hurt leg ankles aches severe lower bowel preassure like need go enjoyed initial rockhard erections side effects months supply amp work xs week worth side effects', 'crohn resection years ago mostly remission since recently bad flare narrowing anastomosis need medication found one handle asacol gave serious body aching fatigue could function pentasa immediately gave heart palpitations arrhythmias discontinue', 'little bit lingering cough cold giving much trouble except keeps night heard good took could get sleep helped tremendously cough bad stomach cramps diarrhea eaten anything upset stomach really feel like quot bug quot looked side effects delsym wish done first probably taken worked cough still get sleep due stomach issues', 'started nexplanon months ago minimal amount contraception take due inability take hormone used birth controls trying give time one options right honestly options get removed never acne problems life immediately broke getting implanted sex drive completely gone used sex boyfriend days week completely forced even fun anymore mean birth control like sex want get pregnant take birth control takes away sex unhappy hope get back time getting removed', 'taken least times last years major problems since first time causing major fatigue last time took year ago severe cramps enough time get bathroom went hospital doctor said work good enough go home second round went back next day process energy last night even worse times gagging night severe cramps tried second dose morning started throwing called office said stop doctor done said evacuate enough', 'gp started venlafaxine yesterday help depression change hour taking feeling sick stomach food fluids thought keep told come side effects would get better took another one last night ill stand sick sweating shaking thought going pass get sleep hopeing feel better morning took another one felt spaced dry mouth shaking sick booked see gp make sure feeling like find put wrong dose mg put mg right dose hope better', 'year old male uk normally would go every hour even drinking small amounts water drinks took medication two weeks noticed right away would go less often toilet much easier dispense urine unfortunately stop taking medications side effects outweighed benefits found would incredibly intense mood swings aggression feel clumsy dizzy time blurry vision memory problems mind blanks runny nose weakness tiredness trying betmiga lets see', 'never depo suppose ideal candidate first months ok bit moody fine weight gain something changed constantly bleeding getting horrible hormone spots normally clear skin mood swings increasing months decided taken ordeal tricky doc remove anesthetics stitches later simply worth hassle', 'put yasmin months regulate cycle reduce acne flare ups worst months life gained lbs come easily stopping pill experienced horrible mood swings heavier periods acne breakouts breakthrough bleeding nauseous time pill seems agree people definitely agree went femcon year stopping yasmin experienced virtually side effects', 'caused gain pounds']\n"
     ]
    }
   ],
   "source": [
    "print(StepTwo[:10])"
   ]
  },
  {
   "cell_type": "code",
   "execution_count": 33,
   "metadata": {},
   "outputs": [
    {
     "name": "stdout",
     "output_type": "stream",
     "text": [
      "Number of reviews:  18324\n",
      "\n",
      "Number of words in the training corpus - after Step Two preprocessing:  737171\n",
      "Vocabulary of the training corpus - after Step Two preprocessing:  16107\n"
     ]
    }
   ],
   "source": [
    "#Check total number of words and vocabulary after preprocessing step two\n",
    "print(\"Number of reviews: \", len(StepTwo)) #18324\n",
    "\n",
    "totWordsPP2, vocabPP2 = WordsVocabCountDF(StepTwo)\n",
    "\n",
    "print(\"\\nNumber of words in the training corpus - after Step Two preprocessing: \", totWordsPP2) #7,37,171 (> 7 Lakh words)\n",
    "print(\"Vocabulary of the training corpus - after Step Two preprocessing: \", vocabPP2) #16,107 (> 16,000 words)\n",
    "\n",
    "#Total number of words has reduced by half while vocabulary is almost the same"
   ]
  },
  {
   "cell_type": "code",
   "execution_count": 34,
   "metadata": {},
   "outputs": [
    {
     "data": {
      "text/plain": [
       "False"
      ]
     },
     "execution_count": 34,
     "metadata": {},
     "output_type": "execute_result"
    }
   ],
   "source": [
    "#Check for empty strings\n",
    "'' in StepTwo"
   ]
  },
  {
   "cell_type": "code",
   "execution_count": 35,
   "metadata": {},
   "outputs": [
    {
     "data": {
      "text/plain": [
       "(18324, 2)"
      ]
     },
     "execution_count": 35,
     "metadata": {},
     "output_type": "execute_result"
    }
   ],
   "source": [
    "#Store the preprocessed Sentiments and corresponding ratings in a dataframe\n",
    "preProcList = list(zip(StepTwo, drTrgTop3['rating']))\n",
    "\n",
    "#Convert this list to a dataframe\n",
    "preProcDF = pd.DataFrame(preProcList, columns=['review','rating'])\n",
    "\n",
    "#Shape of the dataframe. #(18324,2)\n",
    "preProcDF.shape"
   ]
  },
  {
   "cell_type": "code",
   "execution_count": 36,
   "metadata": {},
   "outputs": [],
   "source": [
    "##########################################################################################\n",
    "######################### STEP FOUR: MODEL SELECTION #####################################\n",
    "##########################################################################################"
   ]
  },
  {
   "cell_type": "code",
   "execution_count": 37,
   "metadata": {},
   "outputs": [
    {
     "data": {
      "text/plain": [
       "array([0., 2., 1.])"
      ]
     },
     "execution_count": 37,
     "metadata": {},
     "output_type": "execute_result"
    }
   ],
   "source": [
    "#Preprocessed Training data shall be used for training and validation of the models\n",
    "#Test data shall not be used\n",
    "#Scale down the label values\n",
    "\n",
    "#Training Features for total reviews are stored in X\n",
    "X = preProcDF[\"review\"]\n",
    "#Training Classes for total reviews are stored in y\n",
    "yorig = preProcDF['rating']\n",
    "#Scale down the values from [2.0, 3.0, 4.0] to [0.0, 1.0, 2.0]\n",
    "y = yorig.apply(lambda row: row - 2)\n",
    "y.unique()"
   ]
  },
  {
   "cell_type": "code",
   "execution_count": 38,
   "metadata": {},
   "outputs": [],
   "source": [
    "#Libraries for Neural Network Classifiers\n",
    "\n",
    "import tensorflow\n",
    "from tensorflow.keras.models import Sequential\n",
    "from tensorflow.keras.layers import LSTM, GRU\n",
    "from tensorflow.keras.layers import Dense, Activation, Dropout\n",
    "from tensorflow.keras.layers import Embedding\n",
    "from tensorflow.keras.layers import BatchNormalization\n",
    "from tensorflow.keras.utils import to_categorical\n",
    "\n",
    "from sklearn.model_selection import train_test_split\n",
    "from tensorflow.keras.preprocessing import sequence\n",
    "from tensorflow.keras.preprocessing.text import Tokenizer\n",
    "from tensorflow.keras.callbacks import EarlyStopping"
   ]
  },
  {
   "cell_type": "code",
   "execution_count": 39,
   "metadata": {},
   "outputs": [],
   "source": [
    "#Neural Network classifier (90% for training and 10% for validation)\n",
    "xtrain, xval, ytrain, yval = train_test_split(X,y, test_size=0.1, random_state=42)"
   ]
  },
  {
   "cell_type": "code",
   "execution_count": 40,
   "metadata": {},
   "outputs": [],
   "source": [
    "#Hyper parameters settings\n",
    "\n",
    "EMBEDDING_DIMENSION = 100\n",
    "VOCABULARY_SIZE = 5000\n",
    "MAX_LENGTH = 100\n",
    "OOV_TOK = '<OOV>'\n",
    "TRUNCATE_TYPE = 'post'\n",
    "PADDING_TYPE = 'post'"
   ]
  },
  {
   "cell_type": "code",
   "execution_count": 41,
   "metadata": {},
   "outputs": [],
   "source": [
    "#Split sentence into words using tokenizer\n",
    "\n",
    "tokenizer = Tokenizer(num_words=VOCABULARY_SIZE, oov_token=OOV_TOK)\n",
    "tokenizer.fit_on_texts(list(xtrain) + list(xval))"
   ]
  },
  {
   "cell_type": "code",
   "execution_count": 42,
   "metadata": {},
   "outputs": [
    {
     "name": "stdout",
     "output_type": "stream",
     "text": [
      "Vocabulary:  16108\n"
     ]
    }
   ],
   "source": [
    "print(\"Vocabulary: \", len(tokenizer.word_index))"
   ]
  },
  {
   "cell_type": "code",
   "execution_count": 43,
   "metadata": {},
   "outputs": [],
   "source": [
    "#Convert words into sequences for training dataset\n",
    "\n",
    "xtrain_sequences = tokenizer.texts_to_sequences(xtrain)\n",
    "xval_sequences = tokenizer.texts_to_sequences(xval)\n",
    "word_index = len(tokenizer.word_index) + 1\n",
    "#print('Vocabulary size:', word_index)\n",
    "#print(xtrain[2])\n",
    "#print(xtrain_sequences[1])"
   ]
  },
  {
   "cell_type": "code",
   "execution_count": 44,
   "metadata": {},
   "outputs": [],
   "source": [
    "#Pad sequences so that all words are represented as 100 length vector with 64 embedding dimensions\n",
    "\n",
    "xtrain_pad = sequence.pad_sequences(xtrain_sequences, maxlen=MAX_LENGTH, padding=PADDING_TYPE, truncating=TRUNCATE_TYPE)\n",
    "xval_pad = sequence.pad_sequences(xval_sequences, maxlen=MAX_LENGTH, padding=PADDING_TYPE, truncating=TRUNCATE_TYPE)\n",
    "#print(xtrain_pad[0,:])"
   ]
  },
  {
   "cell_type": "code",
   "execution_count": 45,
   "metadata": {},
   "outputs": [
    {
     "name": "stdout",
     "output_type": "stream",
     "text": [
      "Model: \"sequential\"\n",
      "_________________________________________________________________\n",
      "Layer (type)                 Output Shape              Param #   \n",
      "=================================================================\n",
      "embedding (Embedding)        (None, 100, 100)          500000    \n",
      "_________________________________________________________________\n",
      "flatten (Flatten)            (None, 10000)             0         \n",
      "_________________________________________________________________\n",
      "dense (Dense)                (None, 64)                640064    \n",
      "_________________________________________________________________\n",
      "dense_1 (Dense)              (None, 3)                 195       \n",
      "=================================================================\n",
      "Total params: 1,140,259\n",
      "Trainable params: 1,140,259\n",
      "Non-trainable params: 0\n",
      "_________________________________________________________________\n"
     ]
    }
   ],
   "source": [
    "#First Keras Model with Embedding\n",
    "\n",
    "model = Sequential()\n",
    "model.add(tensorflow.keras.layers.Embedding(input_dim=VOCABULARY_SIZE, output_dim=EMBEDDING_DIMENSION, input_length=MAX_LENGTH))\n",
    "model.add(tensorflow.keras.layers.Flatten())\n",
    "model.add(tensorflow.keras.layers.Dense(64, activation='relu'))\n",
    "model.add(tensorflow.keras.layers.Dense(3, activation='softmax'))\n",
    "model.compile(optimizer='adam', loss='sparse_categorical_crossentropy', metrics=['accuracy'])\n",
    "model.summary()"
   ]
  },
  {
   "cell_type": "code",
   "execution_count": 46,
   "metadata": {},
   "outputs": [],
   "source": [
    "#Takes few minutes to train 11,40,259 parameters for 50 epochs\n",
    "history = model.fit(xtrain_pad, ytrain,\n",
    "                    epochs=50,\n",
    "                    validation_data=(xval_pad, yval),\n",
    "                    verbose=False)"
   ]
  },
  {
   "cell_type": "code",
   "execution_count": 47,
   "metadata": {},
   "outputs": [
    {
     "name": "stdout",
     "output_type": "stream",
     "text": [
      "Training Accuracy: 0.9986\n",
      "Validation Accuracy:  0.7261\n"
     ]
    }
   ],
   "source": [
    "lossTrg, accTrg = model.evaluate(xtrain_pad, ytrain, verbose=False)\n",
    "print(\"Training Accuracy: {:.4f}\".format(accTrg)) #99.86% (Overfitting?)\n",
    "lossVal, accVal = model.evaluate(xval_pad, yval, verbose=False)\n",
    "print(\"Validation Accuracy:  {:.4f}\".format(accVal)) #72.61%"
   ]
  },
  {
   "cell_type": "code",
   "execution_count": 48,
   "metadata": {},
   "outputs": [],
   "source": [
    "def plot_history(history):\n",
    "    acc = history.history['accuracy']\n",
    "    val_acc = history.history['val_accuracy']\n",
    "    loss = history.history['loss']\n",
    "    val_loss = history.history['val_loss']\n",
    "    x = range(1, len(acc) + 1)\n",
    "\n",
    "    plt.figure(figsize=(12, 5))\n",
    "    plt.subplot(1, 2, 1)\n",
    "    plt.plot(x, acc, 'b', label='Training acc')\n",
    "    plt.plot(x, val_acc, 'r', label='Validation acc')\n",
    "    plt.title('Training and validation accuracy')\n",
    "    plt.legend()\n",
    "    plt.subplot(1, 2, 2)\n",
    "    plt.plot(x, loss, 'b', label='Training loss')\n",
    "    plt.plot(x, val_loss, 'r', label='Validation loss')\n",
    "    plt.title('Training and validation loss')\n",
    "    plt.legend()"
   ]
  },
  {
   "cell_type": "code",
   "execution_count": 49,
   "metadata": {},
   "outputs": [
    {
     "data": {
      "image/png": "[encoded data removed]",
      "text/plain": [
       "<Figure size 864x360 with 2 Axes>"
      ]
     },
     "metadata": {
      "needs_background": "light"
     },
     "output_type": "display_data"
    }
   ],
   "source": [
    "plot_history(history)\n",
    "#Training and validation accuracy increases rapidly in the first few epochs. After that it stabilises\n",
    "#Validation loss is increasing after the second epoch. Model is overfitting"
   ]
  },
  {
   "cell_type": "code",
   "execution_count": 50,
   "metadata": {},
   "outputs": [],
   "source": [
    "#Add GlobalMaxPool1D layer between Embedding layer and hidden layer to downsample the feature vectors\n",
    "model2 = Sequential()\n",
    "model2.add(tensorflow.keras.layers.Embedding(input_dim=VOCABULARY_SIZE, output_dim=EMBEDDING_DIMENSION, input_length=MAX_LENGTH))\n",
    "model2.add(tensorflow.keras.layers.GlobalMaxPool1D())\n",
    "model2.add(tensorflow.keras.layers.Dense(64, activation='relu'))\n",
    "model2.add(tensorflow.keras.layers.Dense(3, activation='softmax'))"
   ]
  },
  {
   "cell_type": "code",
   "execution_count": 51,
   "metadata": {},
   "outputs": [
    {
     "name": "stdout",
     "output_type": "stream",
     "text": [
      "Model: \"sequential_1\"\n",
      "_________________________________________________________________\n",
      "Layer (type)                 Output Shape              Param #   \n",
      "=================================================================\n",
      "embedding_1 (Embedding)      (None, 100, 100)          500000    \n",
      "_________________________________________________________________\n",
      "global_max_pooling1d (Global (None, 100)               0         \n",
      "_________________________________________________________________\n",
      "dense_2 (Dense)              (None, 64)                6464      \n",
      "_________________________________________________________________\n",
      "dense_3 (Dense)              (None, 3)                 195       \n",
      "=================================================================\n",
      "Total params: 506,659\n",
      "Trainable params: 506,659\n",
      "Non-trainable params: 0\n",
      "_________________________________________________________________\n"
     ]
    }
   ],
   "source": [
    "model2.compile(optimizer='adam', loss='sparse_categorical_crossentropy', metrics=['accuracy'])\n",
    "model2.summary()"
   ]
  },
  {
   "cell_type": "code",
   "execution_count": 52,
   "metadata": {},
   "outputs": [],
   "source": [
    "#Fit the model with Global MaxPooling 1D layer and train for 50 epochs. Note number of parameters have come down to 506,659\n",
    "#Takes few minutes to train\n",
    "history2 = model2.fit(xtrain_pad, ytrain,\n",
    "                    epochs=50,\n",
    "                    validation_data=(xval_pad, yval), verbose = False\n",
    "                    )"
   ]
  },
  {
   "cell_type": "code",
   "execution_count": 54,
   "metadata": {},
   "outputs": [
    {
     "name": "stdout",
     "output_type": "stream",
     "text": [
      "Training Accuracy Max Pooling: 0.9973\n",
      "Validation Accuracy Max Pooling:  0.7147\n"
     ]
    }
   ],
   "source": [
    "#Training and Validation loss of model with Global Max Pooling layer\n",
    "lossMP, accTrgMP = model2.evaluate(xtrain_pad, ytrain, verbose=False)\n",
    "print(\"Training Accuracy Max Pooling: {:.4f}\".format(accTrgMP)) #99.73%\n",
    "loss2, accValMP = model2.evaluate(xval_pad, yval, verbose=False)\n",
    "print(\"Validation Accuracy Max Pooling:  {:.4f}\".format(accValMP)) #71.47%"
   ]
  },
  {
   "cell_type": "code",
   "execution_count": 55,
   "metadata": {},
   "outputs": [
    {
     "data": {
      "image/png": "[encoded data removed]",
      "text/plain": [
       "<Figure size 864x360 with 2 Axes>"
      ]
     },
     "metadata": {
      "needs_background": "light"
     },
     "output_type": "display_data"
    }
   ],
   "source": [
    "plot_history(history2)\n",
    "#Training and validation accuracy increases rapidly in the first 5 epochs. Then stabilises\n",
    "#Validation loss increases from the fifth epoch or so while training loss decreases till about 8th epoch. Then stabilises\n",
    "#Model continues to overfit"
   ]
  },
  {
   "cell_type": "code",
   "execution_count": 56,
   "metadata": {},
   "outputs": [],
   "source": [
    "#Use pretrained GloVe Word Embeddings\n",
    "def create_embedding_matrix(filepath, word_index, embedding_dim):\n",
    "    vocab_size = len(word_index) + 1  # Adding again 1 because of reserved 0 index\n",
    "    embedding_matrix = np.zeros((vocab_size, embedding_dim))\n",
    "\n",
    "    f = open('glove.6B.100d.txt', encoding = 'utf-8')\n",
    "    for line in f:\n",
    "        word, *vector = line.split()\n",
    "        if word in word_index:\n",
    "            idx = word_index[word] \n",
    "            embedding_matrix[idx] = np.array(vector, dtype=np.float32)[:embedding_dim]\n",
    "\n",
    "    return embedding_matrix"
   ]
  },
  {
   "cell_type": "code",
   "execution_count": 57,
   "metadata": {},
   "outputs": [
    {
     "name": "stdout",
     "output_type": "stream",
     "text": [
      "Number of vectors in the embedding matrix:  16109\n"
     ]
    }
   ],
   "source": [
    "embedding_matrix = create_embedding_matrix('glove.6B.100d.txt',tokenizer.word_index, EMBEDDING_DIMENSION)\n",
    "print(\"Number of vectors in the embedding matrix: \", len(embedding_matrix))"
   ]
  },
  {
   "cell_type": "code",
   "execution_count": 58,
   "metadata": {},
   "outputs": [],
   "source": [
    "#Add Embedding Matrix in the Embedding layer and make the layer non-trainable\n",
    "model3 = Sequential()\n",
    "model3.add(tensorflow.keras.layers.Embedding(input_dim=(len(tokenizer.word_index) + 1), output_dim=EMBEDDING_DIMENSION, \n",
    "                                             weights = [embedding_matrix], input_length=MAX_LENGTH, trainable = False))\n",
    "model3.add(tensorflow.keras.layers.GlobalMaxPool1D())\n",
    "model3.add(tensorflow.keras.layers.Dense(64, activation='relu'))\n",
    "model3.add(tensorflow.keras.layers.Dense(3, activation='softmax'))"
   ]
  },
  {
   "cell_type": "code",
   "execution_count": 60,
   "metadata": {},
   "outputs": [
    {
     "name": "stdout",
     "output_type": "stream",
     "text": [
      "Model: \"sequential_2\"\n",
      "_________________________________________________________________\n",
      "Layer (type)                 Output Shape              Param #   \n",
      "=================================================================\n",
      "embedding_2 (Embedding)      (None, 100, 100)          1610900   \n",
      "_________________________________________________________________\n",
      "global_max_pooling1d_1 (Glob (None, 100)               0         \n",
      "_________________________________________________________________\n",
      "dense_4 (Dense)              (None, 64)                6464      \n",
      "_________________________________________________________________\n",
      "dense_5 (Dense)              (None, 3)                 195       \n",
      "=================================================================\n",
      "Total params: 1,617,559\n",
      "Trainable params: 6,659\n",
      "Non-trainable params: 1,610,900\n",
      "_________________________________________________________________\n"
     ]
    }
   ],
   "source": [
    "model3.compile(optimizer='adam', loss='sparse_categorical_crossentropy', metrics=['accuracy'])\n",
    "model3.summary()\n",
    "#Number of trainable parameters reduced to 6659 out of 16,17,559 as GloVe word embedding layer is made non-trainable"
   ]
  },
  {
   "cell_type": "code",
   "execution_count": 61,
   "metadata": {},
   "outputs": [],
   "source": [
    "#Fit the model with GloVe Word Embedding and train for 50 epochs. Takes more than a minute\n",
    "history3 = model3.fit(xtrain_pad, ytrain,\n",
    "                    epochs=50,\n",
    "                    validation_data=(xval_pad, yval), verbose = False\n",
    "                    )"
   ]
  },
  {
   "cell_type": "code",
   "execution_count": 62,
   "metadata": {},
   "outputs": [
    {
     "name": "stdout",
     "output_type": "stream",
     "text": [
      "Training Accuracy GloVe Word Embedding Non-trainable: 0.4911\n",
      "Validation Accuracy GloVe Word Embedding Non-trainable:  0.4157\n"
     ]
    }
   ],
   "source": [
    "#Training and Validation loss of model with GloVe Word Embedding\n",
    "lossGWE, accTrgGWE= model3.evaluate(xtrain_pad, ytrain, verbose=False)\n",
    "print(\"Training Accuracy GloVe Word Embedding Non-trainable: {:.4f}\".format(accTrgGWE)) #49.11%\n",
    "lossGWE, accValGWE = model3.evaluate(xval_pad, yval, verbose=False)\n",
    "print(\"Validation Accuracy GloVe Word Embedding Non-trainable:  {:.4f}\".format(accValGWE)) #41.57%"
   ]
  },
  {
   "cell_type": "code",
   "execution_count": 63,
   "metadata": {},
   "outputs": [
    {
     "data": {
      "image/png": "[encoded data removed]",
      "text/plain": [
       "<Figure size 864x360 with 2 Axes>"
      ]
     },
     "metadata": {
      "needs_background": "light"
     },
     "output_type": "display_data"
    }
   ],
   "source": [
    "plot_history(history3)\n",
    "#Training and Validation accuracy increases every epoch while oscillating\n",
    "#Training loss reduces but validation error oscillates while remaining higher than the training loss"
   ]
  },
  {
   "cell_type": "code",
   "execution_count": 64,
   "metadata": {},
   "outputs": [],
   "source": [
    "#Allow the GloVe embedding layer to be trained. Check performance\n",
    "\n",
    "model4 = Sequential()\n",
    "model4.add(tensorflow.keras.layers.Embedding(input_dim=(len(tokenizer.word_index) + 1), output_dim=EMBEDDING_DIMENSION, \n",
    "                                             weights = [embedding_matrix], input_length=MAX_LENGTH, trainable = True))\n",
    "model4.add(tensorflow.keras.layers.GlobalMaxPool1D())\n",
    "model4.add(tensorflow.keras.layers.Dense(64, activation='relu'))\n",
    "model4.add(tensorflow.keras.layers.Dense(3, activation='softmax'))"
   ]
  },
  {
   "cell_type": "code",
   "execution_count": 65,
   "metadata": {},
   "outputs": [
    {
     "name": "stdout",
     "output_type": "stream",
     "text": [
      "Model: \"sequential_3\"\n",
      "_________________________________________________________________\n",
      "Layer (type)                 Output Shape              Param #   \n",
      "=================================================================\n",
      "embedding_3 (Embedding)      (None, 100, 100)          1610900   \n",
      "_________________________________________________________________\n",
      "global_max_pooling1d_2 (Glob (None, 100)               0         \n",
      "_________________________________________________________________\n",
      "dense_6 (Dense)              (None, 64)                6464      \n",
      "_________________________________________________________________\n",
      "dense_7 (Dense)              (None, 3)                 195       \n",
      "=================================================================\n",
      "Total params: 1,617,559\n",
      "Trainable params: 1,617,559\n",
      "Non-trainable params: 0\n",
      "_________________________________________________________________\n"
     ]
    }
   ],
   "source": [
    "model4.compile(optimizer='adam', loss='sparse_categorical_crossentropy', metrics=['accuracy'])\n",
    "model4.summary()\n",
    "#Number of trainable parameters increases to 16,17,559 as GloVe word embedding layer is made trainable"
   ]
  },
  {
   "cell_type": "code",
   "execution_count": 66,
   "metadata": {},
   "outputs": [],
   "source": [
    "#Fit the model with GloVe Word Embedding trainable and train for 50 epochs\n",
    "#Takes few minutes as over 16 lakh parameters to be trained \n",
    "history4 = model4.fit(xtrain_pad, ytrain,\n",
    "                    epochs=50,\n",
    "                    validation_data=(xval_pad, yval), verbose = False\n",
    "                    )"
   ]
  },
  {
   "cell_type": "code",
   "execution_count": 67,
   "metadata": {},
   "outputs": [
    {
     "name": "stdout",
     "output_type": "stream",
     "text": [
      "Training Accuracy GloVe Word Embedding Trainable: 0.9987\n",
      "Validation Accuracy GloVe Word Embedding Trainable:  0.7114\n"
     ]
    }
   ],
   "source": [
    "#Training and Validation loss of model with GloVe Word Embedding Trainable\n",
    "lossGWET, accTrgGWET= model4.evaluate(xtrain_pad, ytrain, verbose=False)\n",
    "print(\"Training Accuracy GloVe Word Embedding Trainable: {:.4f}\".format(accTrgGWET)) #99.87%\n",
    "lossGWET, accValGWET = model4.evaluate(xval_pad, yval, verbose=False)\n",
    "print(\"Validation Accuracy GloVe Word Embedding Trainable:  {:.4f}\".format(accValGWET)) #71.14%"
   ]
  },
  {
   "cell_type": "code",
   "execution_count": 68,
   "metadata": {},
   "outputs": [
    {
     "data": {
      "image/png": "[encoded data removed]",
      "text/plain": [
       "<Figure size 864x360 with 2 Axes>"
      ]
     },
     "metadata": {
      "needs_background": "light"
     },
     "output_type": "display_data"
    }
   ],
   "source": [
    "plot_history(history4)\n",
    "#Training and Validation accuracy increases steadily upto 15 epochs. Then plateaus.\n",
    "#Training accuracy is close to 100% (Overfitting) while validation accuracy is 71%\n",
    "#Validation loss increases rapidly from the 10th epoch onwards"
   ]
  },
  {
   "cell_type": "code",
   "execution_count": 69,
   "metadata": {},
   "outputs": [],
   "source": [
    "#Convolutional Neural Networks with vocabulary_size of 5000\n",
    "modelC1 = Sequential()\n",
    "modelC1.add(tensorflow.keras.layers.Embedding(VOCABULARY_SIZE, EMBEDDING_DIMENSION, input_length=MAX_LENGTH))\n",
    "modelC1.add(tensorflow.keras.layers.Conv1D(128, 5, activation='relu'))\n",
    "modelC1.add(tensorflow.keras.layers.GlobalMaxPooling1D())\n",
    "modelC1.add(tensorflow.keras.layers.Dense(10, activation='relu'))\n",
    "modelC1.add(tensorflow.keras.layers.Dense(4, activation='softmax'))"
   ]
  },
  {
   "cell_type": "code",
   "execution_count": 70,
   "metadata": {},
   "outputs": [
    {
     "name": "stdout",
     "output_type": "stream",
     "text": [
      "Model: \"sequential_4\"\n",
      "_________________________________________________________________\n",
      "Layer (type)                 Output Shape              Param #   \n",
      "=================================================================\n",
      "embedding_4 (Embedding)      (None, 100, 100)          500000    \n",
      "_________________________________________________________________\n",
      "conv1d (Conv1D)              (None, 96, 128)           64128     \n",
      "_________________________________________________________________\n",
      "global_max_pooling1d_3 (Glob (None, 128)               0         \n",
      "_________________________________________________________________\n",
      "dense_8 (Dense)              (None, 10)                1290      \n",
      "_________________________________________________________________\n",
      "dense_9 (Dense)              (None, 4)                 44        \n",
      "=================================================================\n",
      "Total params: 565,462\n",
      "Trainable params: 565,462\n",
      "Non-trainable params: 0\n",
      "_________________________________________________________________\n"
     ]
    }
   ],
   "source": [
    "modelC1.compile(optimizer='adam', loss='sparse_categorical_crossentropy', metrics=['accuracy'])\n",
    "modelC1.summary()\n",
    "#Number of trainable parameters is 565,462"
   ]
  },
  {
   "cell_type": "code",
   "execution_count": 71,
   "metadata": {},
   "outputs": [],
   "source": [
    "#Train the CNN model with vocabulary of 5000 words for 10 epochs.Takes a minute to train\n",
    "historyC1 = modelC1.fit(xtrain_pad, ytrain,\n",
    "                    epochs=10,\n",
    "                    validation_data=(xval_pad, yval), verbose = False\n",
    "                    )"
   ]
  },
  {
   "cell_type": "code",
   "execution_count": 72,
   "metadata": {},
   "outputs": [
    {
     "name": "stdout",
     "output_type": "stream",
     "text": [
      "Training Accuracy CNN with vocabulary 5000 : 0.9949\n",
      "Validation Accuracy CNN with vocabulary 5000:  0.6748\n"
     ]
    }
   ],
   "source": [
    "#Training and Validation loss of Convolutinal Neural Network\n",
    "lossC1, accTrgC1= modelC1.evaluate(xtrain_pad, ytrain, verbose=False)\n",
    "print(\"Training Accuracy CNN with vocabulary 5000 : {:.4f}\".format(accTrgC1)) #99.49%\n",
    "lossC1, accValC1 = modelC1.evaluate(xval_pad, yval, verbose=False)\n",
    "print(\"Validation Accuracy CNN with vocabulary 5000:  {:.4f}\".format(accValC1)) #67.48%"
   ]
  },
  {
   "cell_type": "code",
   "execution_count": 73,
   "metadata": {},
   "outputs": [
    {
     "data": {
      "image/png": "[encoded data removed]",
      "text/plain": [
       "<Figure size 864x360 with 2 Axes>"
      ]
     },
     "metadata": {
      "needs_background": "light"
     },
     "output_type": "display_data"
    }
   ],
   "source": [
    "plot_history(historyC1)\n",
    "#Training and Validation accuracy increases for the first 5 epochs and then stabilises\n",
    "#Training accuracy is close to 100% (overfitting) while validation accuracy is 67.48%\n",
    "#Validation loss increases after 3 epochs while training loss reduces and approaches zero"
   ]
  },
  {
   "cell_type": "code",
   "execution_count": 74,
   "metadata": {},
   "outputs": [],
   "source": [
    "#Convolutional Neural Networks with vocabulary_size of corpus (16109 instead of 5000 set earlier)\n",
    "modelC2 = Sequential()\n",
    "modelC2.add(tensorflow.keras.layers.Embedding(len(tokenizer.word_index) + 1, EMBEDDING_DIMENSION, input_length=MAX_LENGTH))\n",
    "modelC2.add(tensorflow.keras.layers.Conv1D(128, 5, activation='relu'))\n",
    "modelC2.add(tensorflow.keras.layers.GlobalMaxPooling1D())\n",
    "modelC2.add(tensorflow.keras.layers.Dense(10, activation='relu'))\n",
    "modelC2.add(tensorflow.keras.layers.Dense(4, activation='softmax'))"
   ]
  },
  {
   "cell_type": "code",
   "execution_count": 76,
   "metadata": {},
   "outputs": [
    {
     "name": "stdout",
     "output_type": "stream",
     "text": [
      "Model: \"sequential_5\"\n",
      "_________________________________________________________________\n",
      "Layer (type)                 Output Shape              Param #   \n",
      "=================================================================\n",
      "embedding_5 (Embedding)      (None, 100, 100)          1610900   \n",
      "_________________________________________________________________\n",
      "conv1d_1 (Conv1D)            (None, 96, 128)           64128     \n",
      "_________________________________________________________________\n",
      "global_max_pooling1d_4 (Glob (None, 128)               0         \n",
      "_________________________________________________________________\n",
      "dense_10 (Dense)             (None, 10)                1290      \n",
      "_________________________________________________________________\n",
      "dense_11 (Dense)             (None, 4)                 44        \n",
      "=================================================================\n",
      "Total params: 1,676,362\n",
      "Trainable params: 1,676,362\n",
      "Non-trainable params: 0\n",
      "_________________________________________________________________\n"
     ]
    }
   ],
   "source": [
    "modelC2.compile(optimizer='adam', loss='sparse_categorical_crossentropy', metrics=['accuracy'])\n",
    "modelC2.summary()\n",
    "#Number of trainable parameters is 16,76,362"
   ]
  },
  {
   "cell_type": "code",
   "execution_count": 77,
   "metadata": {},
   "outputs": [],
   "source": [
    "# Over 16 Lakh parameters to be trained for 10 epochs. Takes few minutes\n",
    "historyC2 = modelC2.fit(xtrain_pad, ytrain,\n",
    "                    epochs=10,\n",
    "                    validation_data=(xval_pad, yval), verbose = False\n",
    "                    )"
   ]
  },
  {
   "cell_type": "code",
   "execution_count": 78,
   "metadata": {},
   "outputs": [
    {
     "name": "stdout",
     "output_type": "stream",
     "text": [
      "Training Accuracy CNN (Corpus Vocabulary): 0.9986\n",
      "Validation Accuracy CNN (Corpus Vocabaulary):  0.7196\n"
     ]
    }
   ],
   "source": [
    "#Training and Validation loss of Convolutinal Neural Network\n",
    "lossC2, accTrgC2= modelC2.evaluate(xtrain_pad, ytrain, verbose=False)\n",
    "print(\"Training Accuracy CNN (Corpus Vocabulary): {:.4f}\".format(accTrgC2)) #99.86%\n",
    "lossC2, accValC2 = modelC2.evaluate(xval_pad, yval, verbose=False)\n",
    "print(\"Validation Accuracy CNN (Corpus Vocabaulary):  {:.4f}\".format(accValC2)) #71.96%"
   ]
  },
  {
   "cell_type": "code",
   "execution_count": 79,
   "metadata": {},
   "outputs": [
    {
     "data": {
      "image/png": "[encoded data removed]",
      "text/plain": [
       "<Figure size 864x360 with 2 Axes>"
      ]
     },
     "metadata": {
      "needs_background": "light"
     },
     "output_type": "display_data"
    }
   ],
   "source": [
    "plot_history(historyC2)\n",
    "#Model continues to overfit the training data with best validation accuracy of 72.07%\n",
    "#Validation loss is increasing rapidly after three epochs"
   ]
  },
  {
   "cell_type": "code",
   "execution_count": 80,
   "metadata": {},
   "outputs": [],
   "source": [
    "from tensorflow.keras.layers import InputLayer\n",
    "from tensorflow.keras.layers import Input\n",
    "from tensorflow.keras import Model\n",
    "from tensorflow.keras.optimizers import RMSprop"
   ]
  },
  {
   "cell_type": "code",
   "execution_count": 81,
   "metadata": {},
   "outputs": [],
   "source": [
    "#Recurrent Neural Network\n",
    "def RNN():\n",
    "    inputs = Input(name='inputs',shape=[MAX_LENGTH])\n",
    "    layer = Embedding(5000,50,input_length=MAX_LENGTH)(inputs)\n",
    "    layer = LSTM(64)(layer)\n",
    "    layer = Dense(256,name='FC1')(layer)\n",
    "    layer = Activation('relu')(layer)\n",
    "    layer = Dropout(0.5)(layer)\n",
    "    layer = Dense(3,name='out_layer')(layer)\n",
    "    layer = Activation('softmax')(layer)\n",
    "    model = Model(inputs=inputs,outputs=layer)\n",
    "    return model"
   ]
  },
  {
   "cell_type": "code",
   "execution_count": 82,
   "metadata": {},
   "outputs": [
    {
     "name": "stdout",
     "output_type": "stream",
     "text": [
      "Model: \"functional_1\"\n",
      "_________________________________________________________________\n",
      "Layer (type)                 Output Shape              Param #   \n",
      "=================================================================\n",
      "inputs (InputLayer)          [(None, 100)]             0         \n",
      "_________________________________________________________________\n",
      "embedding_6 (Embedding)      (None, 100, 50)           250000    \n",
      "_________________________________________________________________\n",
      "lstm (LSTM)                  (None, 64)                29440     \n",
      "_________________________________________________________________\n",
      "FC1 (Dense)                  (None, 256)               16640     \n",
      "_________________________________________________________________\n",
      "activation (Activation)      (None, 256)               0         \n",
      "_________________________________________________________________\n",
      "dropout (Dropout)            (None, 256)               0         \n",
      "_________________________________________________________________\n",
      "out_layer (Dense)            (None, 3)                 771       \n",
      "_________________________________________________________________\n",
      "activation_1 (Activation)    (None, 3)                 0         \n",
      "=================================================================\n",
      "Total params: 296,851\n",
      "Trainable params: 296,851\n",
      "Non-trainable params: 0\n",
      "_________________________________________________________________\n"
     ]
    }
   ],
   "source": [
    "modelrnn = RNN()\n",
    "modelrnn.summary()\n",
    "modelrnn.compile(optimizer='adam', loss='sparse_categorical_crossentropy', metrics=['accuracy'])\n",
    "#Training parameters - 296,851"
   ]
  },
  {
   "cell_type": "code",
   "execution_count": 83,
   "metadata": {},
   "outputs": [],
   "source": [
    "#Each epoch takes roughly 20 seconds. For 50 epochs, approximately 18 minutes\n",
    "histrnn = modelrnn.fit(xtrain_pad,ytrain,batch_size=128,epochs=50, validation_data=(xval_pad, yval), verbose=False)"
   ]
  },
  {
   "cell_type": "code",
   "execution_count": 84,
   "metadata": {},
   "outputs": [
    {
     "name": "stdout",
     "output_type": "stream",
     "text": [
      "Training Accuracy RNN: 0.9713\n",
      "Validation Accuracy RNN:  0.6858\n"
     ]
    }
   ],
   "source": [
    "#Training and Validation loss of Recurrent Neural Network\n",
    "lossrnn, accTrgrnn= modelrnn.evaluate(xtrain_pad, ytrain, verbose=False)\n",
    "print(\"Training Accuracy RNN: {:.4f}\".format(accTrgrnn)) #97.13%\n",
    "lossValrnn, accValrnn = modelrnn.evaluate(xval_pad, yval, verbose=False)\n",
    "print(\"Validation Accuracy RNN:  {:.4f}\".format(accValrnn)) #68.58%"
   ]
  },
  {
   "cell_type": "code",
   "execution_count": 85,
   "metadata": {},
   "outputs": [
    {
     "data": {
      "image/png": "[encoded data removed]",
      "text/plain": [
       "<Figure size 864x360 with 2 Axes>"
      ]
     },
     "metadata": {
      "needs_background": "light"
     },
     "output_type": "display_data"
    }
   ],
   "source": [
    "plot_history(histrnn)\n",
    "#Training and validation accuracy increases rapidly after 15 epochs. But validation accuracy is much lesser than training accuracy\n",
    "#Training and validation loss is steadily reducing. Validation loss increases after 20 epochs."
   ]
  },
  {
   "cell_type": "code",
   "execution_count": 86,
   "metadata": {},
   "outputs": [],
   "source": [
    "#Load libraries for Bidirectional LSTM Models\n",
    "from tensorflow.keras.layers import SpatialDropout1D\n",
    "from tensorflow.keras.layers import Bidirectional"
   ]
  },
  {
   "cell_type": "code",
   "execution_count": 87,
   "metadata": {},
   "outputs": [],
   "source": [
    "#Create Bidirectional LSTM model\n",
    "\n",
    "modelBL = Sequential()\n",
    "modelBL.add(tensorflow.keras.layers.Embedding(len(tokenizer.word_index) + 1, EMBEDDING_DIMENSION, input_length=MAX_LENGTH))\n",
    "modelBL.add(SpatialDropout1D(0.3))\n",
    "modelBL.add(Bidirectional(LSTM(EMBEDDING_DIMENSION, dropout=0.3, recurrent_dropout=0.3)))\n",
    "modelBL.add(Dense(EMBEDDING_DIMENSION, activation='relu'))\n",
    "modelBL.add(Dropout(0.8))\n",
    "modelBL.add(Dense(EMBEDDING_DIMENSION, activation='relu'))\n",
    "modelBL.add(Dropout(0.8))\n",
    "modelBL.add(Dense(3))\n",
    "modelBL.add(Activation('softmax'))"
   ]
  },
  {
   "cell_type": "code",
   "execution_count": 88,
   "metadata": {},
   "outputs": [],
   "source": [
    "modelBL.compile(loss='sparse_categorical_crossentropy', optimizer='adam',metrics=['accuracy'])"
   ]
  },
  {
   "cell_type": "code",
   "execution_count": 89,
   "metadata": {},
   "outputs": [
    {
     "name": "stdout",
     "output_type": "stream",
     "text": [
      "Model: \"sequential_6\"\n",
      "_________________________________________________________________\n",
      "Layer (type)                 Output Shape              Param #   \n",
      "=================================================================\n",
      "embedding_7 (Embedding)      (None, 100, 100)          1610900   \n",
      "_________________________________________________________________\n",
      "spatial_dropout1d (SpatialDr (None, 100, 100)          0         \n",
      "_________________________________________________________________\n",
      "bidirectional (Bidirectional (None, 200)               160800    \n",
      "_________________________________________________________________\n",
      "dense_12 (Dense)             (None, 100)               20100     \n",
      "_________________________________________________________________\n",
      "dropout_1 (Dropout)          (None, 100)               0         \n",
      "_________________________________________________________________\n",
      "dense_13 (Dense)             (None, 100)               10100     \n",
      "_________________________________________________________________\n",
      "dropout_2 (Dropout)          (None, 100)               0         \n",
      "_________________________________________________________________\n",
      "dense_14 (Dense)             (None, 3)                 303       \n",
      "_________________________________________________________________\n",
      "activation_2 (Activation)    (None, 3)                 0         \n",
      "=================================================================\n",
      "Total params: 1,802,203\n",
      "Trainable params: 1,802,203\n",
      "Non-trainable params: 0\n",
      "_________________________________________________________________\n"
     ]
    }
   ],
   "source": [
    "modelBL.summary()\n",
    "#Training parameters - 18,02,203"
   ]
  },
  {
   "cell_type": "code",
   "execution_count": 90,
   "metadata": {},
   "outputs": [],
   "source": [
    "#Each epoch takes approximately 2 minutes. For 10 epochs, approximately 20 minutes required for fitment of model\n",
    "num_epochs = 10\n",
    "historyBL = modelBL.fit(xtrain_pad, ytrain, epochs=num_epochs, validation_data=(xval_pad, yval), verbose = False)"
   ]
  },
  {
   "cell_type": "code",
   "execution_count": 91,
   "metadata": {},
   "outputs": [
    {
     "name": "stdout",
     "output_type": "stream",
     "text": [
      "Training Accuracy Bidrectional LSTM (Corpus Vocabulary): 0.7736\n",
      "Validation Accuracy Bidirectional LSTM (Corpus Vocabaulary):  0.5423\n"
     ]
    }
   ],
   "source": [
    "#Training and Validation loss of Bidirectional LSTM Model\n",
    "lossBM, accTrgBM= modelBL.evaluate(xtrain_pad, ytrain, verbose=False)\n",
    "print(\"Training Accuracy Bidrectional LSTM (Corpus Vocabulary): {:.4f}\".format(accTrgBM)) #77.36%\n",
    "lossValBM, accValBM = modelBL.evaluate(xval_pad, yval, verbose=False)\n",
    "print(\"Validation Accuracy Bidirectional LSTM (Corpus Vocabaulary):  {:.4f}\".format(accValBM)) #54.23%"
   ]
  },
  {
   "cell_type": "code",
   "execution_count": 92,
   "metadata": {},
   "outputs": [
    {
     "data": {
      "image/png": "[encoded data removed]",
      "text/plain": [
       "<Figure size 864x360 with 2 Axes>"
      ]
     },
     "metadata": {
      "needs_background": "light"
     },
     "output_type": "display_data"
    }
   ],
   "source": [
    "plot_history(historyBL)\n",
    "#Training and validation accuracy is increasing every epoch. \n",
    "#Validation loss decreases for 6 epochs and then increases while training loss decreasing steadily"
   ]
  },
  {
   "cell_type": "code",
   "execution_count": 93,
   "metadata": {},
   "outputs": [
    {
     "data": {
      "image/png": "[encoded data removed]",
      "text/plain": [
       "<Figure size 1080x360 with 2 Axes>"
      ]
     },
     "metadata": {
      "needs_background": "light"
     },
     "output_type": "display_data"
    }
   ],
   "source": [
    "#Training and validation accuracy of all classifiers in one dataframe \n",
    "\n",
    "fkmL = [\"Keras\", (history.history[\"accuracy\"][-1])*100, (history.history[\"val_accuracy\"][-1])*100]\n",
    "skmL = [\"MaxPl\", (history2.history[\"accuracy\"][-1])*100, (history2.history[\"val_accuracy\"][-1])*100]\n",
    "ntkmL = [\"GloVeUT\", (history3.history[\"accuracy\"][-1])*100, (history3.history[\"val_accuracy\"][-1])*100]\n",
    "tkmL = [\"GloVeT\", (history4.history[\"accuracy\"][-1])*100, (history4.history[\"val_accuracy\"][-1])*100]\n",
    "\n",
    "cnn1 = [\"CNNV5\", (historyC1.history[\"accuracy\"][-1])*100, (historyC1.history[\"val_accuracy\"][-1])*100]\n",
    "cnn2 = [\"CNNVCorp\", (historyC2.history[\"accuracy\"][-1])*100, (historyC2.history[\"val_accuracy\"][-1])*100]\n",
    "\n",
    "rnn = [\"RNN\", (histrnn.history[\"accuracy\"][-1])*100, (histrnn.history[\"val_accuracy\"][-1])*100]\n",
    "bm = [\"LSTM\", (historyBL.history[\"accuracy\"][-1])*100, (historyBL.history[\"val_accuracy\"][-1])*100]\n",
    "\n",
    "listAcc = [fkmL, skmL, ntkmL, tkmL, cnn1, cnn2, rnn, bm]\n",
    "\n",
    "accDF = pd.DataFrame(listAcc, columns = [\"Name of Classifier\",\"Training Accuracy\", \"Validation Accuracy\"])\n",
    "\n",
    "#Plotting training and validation accuracy\n",
    "fig, (ax1, ax2) =plt.subplots(ncols=2, figsize = (15,5))\n",
    "ax1.bar(accDF[\"Name of Classifier\"], accDF[\"Training Accuracy\"], color = 'b')\n",
    "ax1.set_xlabel(\"Name of Classifier\")\n",
    "ax1.set_ylabel(\"Training Accuracy\")\n",
    "ax1.set_title(\"Training accuracy of classifiers\")\n",
    "ax2.bar(accDF[\"Name of Classifier\"], accDF[\"Validation Accuracy\"], color = 'y')\n",
    "ax2.set_xlabel(\"Name of Classifier\")\n",
    "ax2.set_ylabel(\"Validation Accuracy\")\n",
    "ax2.set_title(\"Validation Accuracy of classifiers\")\n",
    "plt.show()"
   ]
  },
  {
   "cell_type": "code",
   "execution_count": 94,
   "metadata": {},
   "outputs": [
    {
     "data": {
      "text/html": [
       "<div>\n",
       "<style scoped>\n",
       "    .dataframe tbody tr th:only-of-type {\n",
       "        vertical-align: middle;\n",
       "    }\n",
       "\n",
       "    .dataframe tbody tr th {\n",
       "        vertical-align: top;\n",
       "    }\n",
       "\n",
       "    .dataframe thead th {\n",
       "        text-align: right;\n",
       "    }\n",
       "</style>\n",
       "<table border=\"1\" class=\"dataframe\">\n",
       "  <thead>\n",
       "    <tr style=\"text-align: right;\">\n",
       "      <th></th>\n",
       "      <th>Name of Classifier</th>\n",
       "      <th>Training Accuracy</th>\n",
       "      <th>Validation Accuracy</th>\n",
       "    </tr>\n",
       "  </thead>\n",
       "  <tbody>\n",
       "    <tr>\n",
       "      <th>0</th>\n",
       "      <td>Keras</td>\n",
       "      <td>99.848402</td>\n",
       "      <td>72.613204</td>\n",
       "    </tr>\n",
       "    <tr>\n",
       "      <th>1</th>\n",
       "      <td>MaxPl</td>\n",
       "      <td>99.793828</td>\n",
       "      <td>71.467537</td>\n",
       "    </tr>\n",
       "    <tr>\n",
       "      <th>2</th>\n",
       "      <td>GloVeUT</td>\n",
       "      <td>49.893883</td>\n",
       "      <td>41.571194</td>\n",
       "    </tr>\n",
       "    <tr>\n",
       "      <th>3</th>\n",
       "      <td>GloVeT</td>\n",
       "      <td>99.860531</td>\n",
       "      <td>71.140206</td>\n",
       "    </tr>\n",
       "    <tr>\n",
       "      <th>4</th>\n",
       "      <td>CNNV5</td>\n",
       "      <td>99.326903</td>\n",
       "      <td>67.484999</td>\n",
       "    </tr>\n",
       "    <tr>\n",
       "      <th>5</th>\n",
       "      <td>CNNVCorp</td>\n",
       "      <td>99.872661</td>\n",
       "      <td>71.958536</td>\n",
       "    </tr>\n",
       "    <tr>\n",
       "      <th>6</th>\n",
       "      <td>RNN</td>\n",
       "      <td>96.458673</td>\n",
       "      <td>68.576103</td>\n",
       "    </tr>\n",
       "    <tr>\n",
       "      <th>7</th>\n",
       "      <td>LSTM</td>\n",
       "      <td>67.697531</td>\n",
       "      <td>54.228044</td>\n",
       "    </tr>\n",
       "  </tbody>\n",
       "</table>\n",
       "</div>"
      ],
      "text/plain": [
       "  Name of Classifier  Training Accuracy  Validation Accuracy\n",
       "0              Keras          99.848402            72.613204\n",
       "1              MaxPl          99.793828            71.467537\n",
       "2            GloVeUT          49.893883            41.571194\n",
       "3             GloVeT          99.860531            71.140206\n",
       "4              CNNV5          99.326903            67.484999\n",
       "5           CNNVCorp          99.872661            71.958536\n",
       "6                RNN          96.458673            68.576103\n",
       "7               LSTM          67.697531            54.228044"
      ]
     },
     "execution_count": 94,
     "metadata": {},
     "output_type": "execute_result"
    }
   ],
   "source": [
    "accDF"
   ]
  },
  {
   "cell_type": "code",
   "execution_count": 95,
   "metadata": {},
   "outputs": [],
   "source": [
    "#Discussion on results of classifiers\n",
    "\n",
    "#Training accuracy is nearly 100% is for all models except GloVe Model (not trainable) and Bidirectional LSTM\n",
    "#Highest validation accuracy of 72.61% is for basic keras model\n",
    "\n",
    "#Based on the results obtained, CNN with corpus vocabulary is chosen as the best classifier "
   ]
  },
  {
   "cell_type": "code",
   "execution_count": 96,
   "metadata": {},
   "outputs": [],
   "source": [
    "#######################################################################################\n",
    "############## STEP FIVE: PREPARE TEST DATA ###########################################\n",
    "#######################################################################################"
   ]
  },
  {
   "cell_type": "code",
   "execution_count": 97,
   "metadata": {},
   "outputs": [
    {
     "name": "stdout",
     "output_type": "stream",
     "text": [
      "Shape of the drugsCom Test dataset:  (53766, 7)\n",
      "\n",
      "NAs in the drugsCom Test dataset:  Unnamed: 0       0\n",
      "drugName         0\n",
      "condition      295\n",
      "review           0\n",
      "rating           0\n",
      "date             0\n",
      "usefulCount      0\n",
      "dtype: int64\n",
      "\n",
      "Number of unique drug names in the Test dataset:  2637\n",
      "Unique medical conditions in the Test dataset:  709\n",
      "Unique review in the Test dataset:  48280\n",
      "Unique rating in the Test dataset:  [1.0, 2.0, 3.0, 4.0, 5.0, 6.0, 7.0, 8.0, 9.0, 10.0]\n",
      "\n",
      "Shape of the drugsCom Test dataset without NAs:  (53471, 7)\n"
     ]
    }
   ],
   "source": [
    "#Shape of the test dataframe: (53766, 7); NAs - 295\n",
    "print(\"Shape of the drugsCom Test dataset: \", drTest.shape)\n",
    "print(\"\\nNAs in the drugsCom Test dataset: \", drTest.isna().sum())\n",
    "\n",
    "#Number of unique drug names - 2637\n",
    "print(\"\\nNumber of unique drug names in the Test dataset: \", len(drTest[\"drugName\"].unique()))\n",
    "\n",
    "#Number of unique conditions - 709; NAs - 295\n",
    "print(\"Unique medical conditions in the Test dataset: \", len(drTest[\"condition\"].unique()))\n",
    "\n",
    "#Number of unique reviews - 48280; NAs - 0\n",
    "print(\"Unique review in the Test dataset: \", len(drTest[\"review\"].unique()))\n",
    "\n",
    "#Number of ratings - 10 (1.0 to 10.0); NAs - 0\n",
    "print(\"Unique rating in the Test dataset: \", sorted(drTest[\"rating\"].unique()))\n",
    "\n",
    "#Drop rows containing NAs\n",
    "drTestWithoutNA = drTest.dropna()\n",
    "\n",
    "#Shape of the dataframe without NAs (53471,7)\n",
    "print(\"\\nShape of the drugsCom Test dataset without NAs: \", drTestWithoutNA.shape)"
   ]
  },
  {
   "cell_type": "code",
   "execution_count": 98,
   "metadata": {},
   "outputs": [
    {
     "name": "stdout",
     "output_type": "stream",
     "text": [
      "Shape of the drugsCom Test dataset for poor ratings:  (18324, 7)\n",
      "Number of unique drug names for poor ratings:  1053\n",
      "Unique medical conditions for poor ratings:  331\n",
      "Unique review for poor ratings:  5552\n",
      "Unique ratings:  [2.0, 3.0, 4.0]\n"
     ]
    }
   ],
   "source": [
    "drTestTop3 = drTestWithoutNA.loc[(drTestWithoutNA[\"rating\"] == 2.0)  | (drTestWithoutNA['rating'] == 3.0) | (drTestWithoutNA['rating'] == 4.0)] #(18324,7)\n",
    "print(\"Shape of the drugsCom Test dataset for poor ratings: \", drTrgTop3.shape) #(18324,7)\n",
    "\n",
    "#Number of unique drug names - 1053\n",
    "print(\"Number of unique drug names for poor ratings: \", len(drTestTop3[\"drugName\"].unique()))\n",
    "\n",
    "#Number of unique conditions - 331\n",
    "print(\"Unique medical conditions for poor ratings: \", len(drTestTop3[\"condition\"].unique()))\n",
    "\n",
    "#Number of unique reviews - 5552\n",
    "print(\"Unique review for poor ratings: \", len(drTestTop3[\"review\"].unique()))\n",
    "\n",
    "#Number of ratings - 3 (2.0, 3.0, 4.0)\n",
    "print(\"Unique ratings: \", sorted(drTestTop3[\"rating\"].unique()))"
   ]
  },
  {
   "cell_type": "code",
   "execution_count": 99,
   "metadata": {},
   "outputs": [],
   "source": [
    "#Preprocess the reviews in the test data \n",
    "StepOneTest = []\n",
    "sentences = list(drTestTop3['review'])\n",
    "for sen in sentences:\n",
    "    StepOneTest.append(preprocess_text(sen))"
   ]
  },
  {
   "cell_type": "code",
   "execution_count": 100,
   "metadata": {},
   "outputs": [],
   "source": [
    "#Remove stop words from preprocessed text\n",
    "StepTwoTest = []\n",
    "sentences = StepOneTest\n",
    "for sen in sentences:\n",
    "    StepTwoTest.append(removeStopWords(sen))"
   ]
  },
  {
   "cell_type": "code",
   "execution_count": 101,
   "metadata": {},
   "outputs": [
    {
     "data": {
      "text/plain": [
       "['days first weeks using arms face put vaseline lips eyes nostrils protect cream far reaction know many pre cancer thought would light like christmas tree far good maybe coming time tell']"
      ]
     },
     "execution_count": 101,
     "metadata": {},
     "output_type": "execute_result"
    }
   ],
   "source": [
    "StepTwoTest[:1]"
   ]
  },
  {
   "cell_type": "code",
   "execution_count": 102,
   "metadata": {},
   "outputs": [
    {
     "data": {
      "text/plain": [
       "False"
      ]
     },
     "execution_count": 102,
     "metadata": {},
     "output_type": "execute_result"
    }
   ],
   "source": [
    "#Check for empty strings in test data\n",
    "'' in StepTwoTest"
   ]
  },
  {
   "cell_type": "code",
   "execution_count": 103,
   "metadata": {},
   "outputs": [
    {
     "data": {
      "text/plain": [
       "(6163, 2)"
      ]
     },
     "execution_count": 103,
     "metadata": {},
     "output_type": "execute_result"
    }
   ],
   "source": [
    "#Store the preprocessed test reviews and corresponding ratings in a dataframe\n",
    "preProcListTest = list(zip(StepTwoTest, drTestTop3['rating']))\n",
    "\n",
    "#Convert this list to a dataframe\n",
    "preProcDFTest = pd.DataFrame(preProcListTest, columns=['review','rating'])\n",
    "\n",
    "#Shape of the dataframe\n",
    "preProcDFTest.shape #(6163,2)"
   ]
  },
  {
   "cell_type": "code",
   "execution_count": 104,
   "metadata": {},
   "outputs": [
    {
     "data": {
      "text/html": [
       "<div>\n",
       "<style scoped>\n",
       "    .dataframe tbody tr th:only-of-type {\n",
       "        vertical-align: middle;\n",
       "    }\n",
       "\n",
       "    .dataframe tbody tr th {\n",
       "        vertical-align: top;\n",
       "    }\n",
       "\n",
       "    .dataframe thead th {\n",
       "        text-align: right;\n",
       "    }\n",
       "</style>\n",
       "<table border=\"1\" class=\"dataframe\">\n",
       "  <thead>\n",
       "    <tr style=\"text-align: right;\">\n",
       "      <th></th>\n",
       "      <th>review</th>\n",
       "      <th>rating</th>\n",
       "    </tr>\n",
       "  </thead>\n",
       "  <tbody>\n",
       "    <tr>\n",
       "      <th>0</th>\n",
       "      <td>days first weeks using arms face put vaseline ...</td>\n",
       "      <td>4.0</td>\n",
       "    </tr>\n",
       "    <tr>\n",
       "      <th>1</th>\n",
       "      <td>pill almost two years work far getting pregnan...</td>\n",
       "      <td>2.0</td>\n",
       "    </tr>\n",
       "    <tr>\n",
       "      <th>2</th>\n",
       "      <td>ditto rebound sleepless discontinued done stra...</td>\n",
       "      <td>2.0</td>\n",
       "    </tr>\n",
       "    <tr>\n",
       "      <th>3</th>\n",
       "      <td>ginanvi months switched pill due high cost gin...</td>\n",
       "      <td>3.0</td>\n",
       "    </tr>\n",
       "    <tr>\n",
       "      <th>4</th>\n",
       "      <td>actos almost year gained pounds swelling hands...</td>\n",
       "      <td>4.0</td>\n",
       "    </tr>\n",
       "  </tbody>\n",
       "</table>\n",
       "</div>"
      ],
      "text/plain": [
       "                                              review  rating\n",
       "0  days first weeks using arms face put vaseline ...     4.0\n",
       "1  pill almost two years work far getting pregnan...     2.0\n",
       "2  ditto rebound sleepless discontinued done stra...     2.0\n",
       "3  ginanvi months switched pill due high cost gin...     3.0\n",
       "4  actos almost year gained pounds swelling hands...     4.0"
      ]
     },
     "execution_count": 104,
     "metadata": {},
     "output_type": "execute_result"
    }
   ],
   "source": [
    "preProcDFTest.head()"
   ]
  },
  {
   "cell_type": "code",
   "execution_count": 105,
   "metadata": {},
   "outputs": [
    {
     "data": {
      "text/plain": [
       "array([2., 0., 1.])"
      ]
     },
     "execution_count": 105,
     "metadata": {},
     "output_type": "execute_result"
    }
   ],
   "source": [
    "#Test Classes for total reviews are stored in ytest\n",
    "ytest = preProcDFTest['rating']\n",
    "#Scale down the values from [2.0, 3.0, 4.0] to [0.0, 1.0, 2.0]\n",
    "ytest = ytest.apply(lambda row: row - 2)\n",
    "ytest.unique()"
   ]
  },
  {
   "cell_type": "code",
   "execution_count": 106,
   "metadata": {},
   "outputs": [
    {
     "data": {
      "image/png": "[encoded data removed]",
      "text/plain": [
       "<Figure size 432x288 with 1 Axes>"
      ]
     },
     "metadata": {
      "needs_background": "light"
     },
     "output_type": "display_data"
    }
   ],
   "source": [
    "#Ratings histogram of the test dataset\n",
    "plt.hist(preProcDFTest['rating'],3)\n",
    "plt.title(\"Frequency of ratings in Test dataset\")\n",
    "plt.xlabel(\"Ratings\")\n",
    "plt.xticks(np.arange(2, 5, step=1))\n",
    "plt.ylabel(\"Frequency\")\n",
    "plt.show()\n",
    "\n",
    "#Though imbalanced, ratings are in the range of 1500-2500"
   ]
  },
  {
   "cell_type": "code",
   "execution_count": 107,
   "metadata": {},
   "outputs": [],
   "source": [
    "#Test data to be tokenized, embedded like training data\n",
    "xtest = preProcDFTest['review']\n",
    "\n",
    "#Split sentence into words using tokenizer\n",
    "tokenizerTest = Tokenizer(num_words=VOCABULARY_SIZE, oov_token=OOV_TOK)\n",
    "tokenizerTest.fit_on_texts(list(xtest))"
   ]
  },
  {
   "cell_type": "code",
   "execution_count": 108,
   "metadata": {},
   "outputs": [],
   "source": [
    "#Convert words into sequences for training dataset\n",
    "\n",
    "xtest_sequences = tokenizerTest.texts_to_sequences(xtest)\n",
    "word_index_test = len(tokenizerTest.word_index) + 1\n",
    "\n",
    "#Pad sequences so that all words are represented as 100 length vector with 64 embedding dimensions\n",
    "\n",
    "xtest_pad = sequence.pad_sequences(xtest_sequences, maxlen=MAX_LENGTH, padding=PADDING_TYPE, truncating=TRUNCATE_TYPE)"
   ]
  },
  {
   "cell_type": "code",
   "execution_count": 109,
   "metadata": {},
   "outputs": [
    {
     "data": {
      "text/plain": [
       "array([[  10,    8,   21,  124,  722,  155,   76, 3828, 1274,  392, 3829,\n",
       "        3418,  448,  163,  393,   95,  192, 1341, 1126,  101,   17,  198,\n",
       "           7, 3419, 4407,  163,   71,  262,  386,   11,  375,    0,    0,\n",
       "           0,    0,    0,    0,    0,    0,    0,    0,    0,    0,    0,\n",
       "           0,    0,    0,    0,    0,    0,    0,    0,    0,    0,    0,\n",
       "           0,    0,    0,    0,    0,    0,    0,    0,    0,    0,    0,\n",
       "           0,    0,    0,    0,    0,    0,    0,    0,    0,    0,    0,\n",
       "           0,    0,    0,    0,    0,    0,    0,    0,    0,    0,    0,\n",
       "           0,    0,    0,    0,    0,    0,    0,    0,    0,    0,    0,\n",
       "           0]])"
      ]
     },
     "execution_count": 109,
     "metadata": {},
     "output_type": "execute_result"
    }
   ],
   "source": [
    "xtest_pad[:1]"
   ]
  },
  {
   "cell_type": "code",
   "execution_count": 110,
   "metadata": {},
   "outputs": [],
   "source": [
    "#######################################################################################\n",
    "############## STEP SIX: EVALUATE TEST DATA ###########################################\n",
    "#######################################################################################"
   ]
  },
  {
   "cell_type": "code",
   "execution_count": 111,
   "metadata": {},
   "outputs": [
    {
     "name": "stdout",
     "output_type": "stream",
     "text": [
      "193/193 [==============================] - 1s 5ms/step\n"
     ]
    }
   ],
   "source": [
    "#Use CNN model(Corpus Vocabulary) with best validation accuracy for preprocessed test data\n",
    "predictions = modelC2.predict(xtest_pad, verbose=1)"
   ]
  },
  {
   "cell_type": "code",
   "execution_count": 112,
   "metadata": {},
   "outputs": [],
   "source": [
    "#Obtain the predictions with labels as 2,1,0 as used for training\n",
    "labels = [2,1,0]\n",
    "prediction_labels=[]\n",
    "for p in predictions:\n",
    "    prediction_labels.append(labels[np.argmax(p)])"
   ]
  },
  {
   "cell_type": "code",
   "execution_count": 113,
   "metadata": {},
   "outputs": [
    {
     "name": "stdout",
     "output_type": "stream",
     "text": [
      "[2, 1, 2, 2, 2]\n"
     ]
    }
   ],
   "source": [
    "print(prediction_labels[:5])"
   ]
  },
  {
   "cell_type": "code",
   "execution_count": 114,
   "metadata": {},
   "outputs": [
    {
     "name": "stdout",
     "output_type": "stream",
     "text": [
      "[2, 1, 2, 2, 2] [4, 3, 4, 4, 4]\n"
     ]
    }
   ],
   "source": [
    "#Increase the prediction label by 2 for each element\n",
    "revPred = [prediction_labels[i] + 2 for i in range(len(prediction_labels))]\n",
    "print(prediction_labels[:5], revPred[:5])"
   ]
  },
  {
   "cell_type": "code",
   "execution_count": 115,
   "metadata": {},
   "outputs": [
    {
     "name": "stdout",
     "output_type": "stream",
     "text": [
      "0.3113743306831089\n"
     ]
    }
   ],
   "source": [
    "#Calculate accuracy of test data\n",
    "from sklearn import metrics\n",
    "print(metrics.accuracy_score(preProcDFTest['rating'], revPred)) #31.14% accuracy for unseen test data"
   ]
  },
  {
   "cell_type": "code",
   "execution_count": 116,
   "metadata": {},
   "outputs": [],
   "source": [
    "#Classification report\n",
    "from sklearn.metrics import classification_report"
   ]
  },
  {
   "cell_type": "code",
   "execution_count": 117,
   "metadata": {},
   "outputs": [
    {
     "name": "stdout",
     "output_type": "stream",
     "text": [
      "Classification Report for CNN Model with Corpus Vocabulary on Test Data\n",
      "              precision    recall  f1-score   support\n",
      "\n",
      "    rating 2       0.38      0.15      0.22      2324\n",
      "    rating 3       0.37      0.28      0.32      2197\n",
      "    rating 4       0.27      0.58      0.36      1642\n",
      "\n",
      "    accuracy                           0.31      6163\n",
      "   macro avg       0.34      0.34      0.30      6163\n",
      "weighted avg       0.35      0.31      0.29      6163\n",
      "\n"
     ]
    }
   ],
   "source": [
    "print(\"Classification Report for CNN Model with Corpus Vocabulary on Test Data\")\n",
    "target_names = ['rating 2', 'rating 3','rating 4']\n",
    "print(classification_report(preProcDFTest['rating'], revPred, target_names=target_names))"
   ]
  },
  {
   "cell_type": "code",
   "execution_count": 118,
   "metadata": {},
   "outputs": [],
   "source": [
    "#The best model (CNN with corpus vocabulary) produces a training accuracy of 99.9% and validation accuracy of 71.96%\n",
    "#Even with the best model, accuracy on test data is 31% approximately\n",
    "\n",
    "#Probable reasons\n",
    "#Not enough training samples (Total 18324 samples for three ratings)\n",
    "#Data does not generalise well\n",
    "#Missing focus on hyperparameters"
   ]
  }
 ],
 "metadata": {
  "kernelspec": {
   "display_name": "Python 3",
   "language": "python",
   "name": "python3"
  },
  "language_info": {
   "codemirror_mode": {
    "name": "ipython",
    "version": 3
   },
   "file_extension": ".py",
   "mimetype": "text/x-python",
   "name": "python",
   "nbconvert_exporter": "python",
   "pygments_lexer": "ipython3",
   "version": "3.8.3"
  }
 },
 "nbformat": 4,
 "nbformat_minor": 4
}
