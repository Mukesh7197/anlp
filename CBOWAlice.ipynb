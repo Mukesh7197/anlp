{
 "cells": [
  {
   "cell_type": "code",
   "execution_count": 1,
   "metadata": {},
   "outputs": [],
   "source": [
    "#Original code contributions by Dipanjan Sarkar\n",
    "#Follow the link https://www.kdnuggets.com/2018/04/implementing-deep-learning-methods-feature-engineering-text-data-cbow.html\n",
    "\n",
    "#CBOW model architecture tries to predict current target word ( center word) based on source context words (surrounding words).\n",
    "\n",
    "#Own contribution - (i) predict the target word based on context word and interpretation of prediction\n",
    "#                    (ii) loss vs epoch plots\n",
    "\n",
    "#CONTINUOUS BAG OF WORDS MODEL STEPS\n",
    "\n",
    "#Build the corpus vocabulary\n",
    "#Build a CBOW (context, target) generator\n",
    "#Build the CBOW model architecture\n",
    "#Train the Model\n",
    "#Test the Model\n",
    "#Get Word Embeddings"
   ]
  },
  {
   "cell_type": "code",
   "execution_count": 2,
   "metadata": {},
   "outputs": [
    {
     "name": "stdout",
     "output_type": "stream",
     "text": [
      "Pretty printing has been turned OFF\n"
     ]
    }
   ],
   "source": [
    "#Import necessary libraries\n",
    "import numpy as np\n",
    "import pandas as pd\n",
    "import tensorflow\n",
    "from tensorflow.keras.preprocessing import text\n",
    "from tensorflow.keras import utils\n",
    "from tensorflow.keras.utils import to_categorical\n",
    "from tensorflow.keras.preprocessing import sequence\n",
    "from tensorflow.keras.models import Sequential\n",
    "from tensorflow.keras.layers import Dense, Embedding, Lambda\n",
    "from tensorflow.keras import backend as K\n",
    "import matplotlib.pyplot as plt\n",
    "%pprint off"
   ]
  },
  {
   "cell_type": "code",
   "execution_count": 3,
   "metadata": {},
   "outputs": [
    {
     "name": "stdout",
     "output_type": "stream",
     "text": [
      "Vocabulary Size: 80\n",
      "Vocabulary Sample: [('not', 1), ('to', 2), ('they', 3), ('the', 4), ('be', 5), ('have', 6), ('seen', 7), ('but', 8), ('whether', 9), ('fault', 10)]\n"
     ]
    }
   ],
   "source": [
    "#Laurence Sterne, “The Life and Opinions of Tristram Shandy.” 107 words.\n",
    "corpus = [\"The French are certainly misunderstood:- but whether the fault is theirs, in not sufficiently explaining themselves, or speaking with that exact limitation and precision which one would expect on a point of such importance, and which, moreover, is so likely to be contested by us — or whether the fault may not be altogether on our side, in not understanding their language always so critically as to know “what they would be at” — I shall not decide; but ‘tis evident to me, when they affirm, “That they who have seen Paris, have seen every thing,” they must mean to speak of those who have seen it by day-light.\"]\n",
    "\n",
    "tokenizer = text.Tokenizer() #Tokenizer instance\n",
    "\n",
    "#Fit the tokenizer object on the corpus\n",
    "tokenizer.fit_on_texts(corpus)\n",
    "\n",
    "#create a dictionary\n",
    "word2id = tokenizer.word_index\n",
    "\n",
    "#Build corpus vocabulary\n",
    "\n",
    "#The PAD term is to pad context words to a fixed length if needed.\n",
    "word2id['PAD'] = 0\n",
    "\n",
    "#Exchange key and values and store in id2word for reverse mapping\n",
    "id2word = {v:k for k, v in word2id.items()}\n",
    "\n",
    "#Each word is mapped to a number and stored as a list of list\n",
    "wids = [[word2id[w] for w in text.text_to_word_sequence(doc)] for doc in corpus]\n",
    "#print(wids)\n",
    "\n",
    "#Size of the vocabulary\n",
    "vocab_size = len(word2id)\n",
    "\n",
    "#Embedding size\n",
    "embed_size = 100\n",
    "\n",
    "#context window size\n",
    "window_size = 2 \n",
    "\n",
    "print('Vocabulary Size:', vocab_size)\n",
    "print('Vocabulary Sample:', list(word2id.items())[:10])"
   ]
  },
  {
   "cell_type": "code",
   "execution_count": 4,
   "metadata": {},
   "outputs": [
    {
     "name": "stdout",
     "output_type": "stream",
     "text": [
      "{'not': 1, 'to': 2, 'they': 3, 'the': 4, 'be': 5, 'have': 6, 'seen': 7, 'but': 8, 'whether': 9, 'fault': 10, 'is': 11, 'in': 12, 'or': 13, 'and': 14, 'which': 15, 'would': 16, 'on': 17, 'of': 18, 'so': 19, 'by': 20, '—': 21, 'who': 22, 'french': 23, 'are': 24, 'certainly': 25, 'misunderstood': 26, 'theirs': 27, 'sufficiently': 28, 'explaining': 29, 'themselves': 30, 'speaking': 31, 'with': 32, 'that': 33, 'exact': 34, 'limitation': 35, 'precision': 36, 'one': 37, 'expect': 38, 'a': 39, 'point': 40, 'such': 41, 'importance': 42, 'moreover': 43, 'likely': 44, 'contested': 45, 'us': 46, 'may': 47, 'altogether': 48, 'our': 49, 'side': 50, 'understanding': 51, 'their': 52, 'language': 53, 'always': 54, 'critically': 55, 'as': 56, 'know': 57, '“what': 58, 'at”': 59, 'i': 60, 'shall': 61, 'decide': 62, '‘tis': 63, 'evident': 64, 'me': 65, 'when': 66, 'affirm': 67, '“that': 68, 'paris': 69, 'every': 70, 'thing': 71, '”': 72, 'must': 73, 'mean': 74, 'speak': 75, 'those': 76, 'it': 77, 'day': 78, 'light': 79, 'PAD': 0}\n"
     ]
    }
   ],
   "source": [
    "#word2id dictionary. Note 'PAD' is initialised to zero\n",
    "print(word2id)"
   ]
  },
  {
   "cell_type": "code",
   "execution_count": 5,
   "metadata": {},
   "outputs": [
    {
     "name": "stdout",
     "output_type": "stream",
     "text": [
      "{1: 'not', 2: 'to', 3: 'they', 4: 'the', 5: 'be', 6: 'have', 7: 'seen', 8: 'but', 9: 'whether', 10: 'fault', 11: 'is', 12: 'in', 13: 'or', 14: 'and', 15: 'which', 16: 'would', 17: 'on', 18: 'of', 19: 'so', 20: 'by', 21: '—', 22: 'who', 23: 'french', 24: 'are', 25: 'certainly', 26: 'misunderstood', 27: 'theirs', 28: 'sufficiently', 29: 'explaining', 30: 'themselves', 31: 'speaking', 32: 'with', 33: 'that', 34: 'exact', 35: 'limitation', 36: 'precision', 37: 'one', 38: 'expect', 39: 'a', 40: 'point', 41: 'such', 42: 'importance', 43: 'moreover', 44: 'likely', 45: 'contested', 46: 'us', 47: 'may', 48: 'altogether', 49: 'our', 50: 'side', 51: 'understanding', 52: 'their', 53: 'language', 54: 'always', 55: 'critically', 56: 'as', 57: 'know', 58: '“what', 59: 'at”', 60: 'i', 61: 'shall', 62: 'decide', 63: '‘tis', 64: 'evident', 65: 'me', 66: 'when', 67: 'affirm', 68: '“that', 69: 'paris', 70: 'every', 71: 'thing', 72: '”', 73: 'must', 74: 'mean', 75: 'speak', 76: 'those', 77: 'it', 78: 'day', 79: 'light', 0: 'PAD'}\n"
     ]
    }
   ],
   "source": [
    "#reverse dictionary id2word. Total words including PAD is 80\n",
    "print(id2word)"
   ]
  },
  {
   "cell_type": "code",
   "execution_count": 6,
   "metadata": {},
   "outputs": [],
   "source": [
    "#Build a CBOW (context, target) generator\n",
    "\n",
    "#Function that accepts the corpus in terms of sequence, size of window and vocabulary size as inputs\n",
    "#and yields target word with the surrounding context words\n",
    "\n",
    "def generate_context_word_pairs(corpus, window_size, vocab_size):\n",
    "    \n",
    "    #Context length is twice the window size specified by the user\n",
    "    context_length = window_size*2\n",
    "    \n",
    "    #For every word in corpus\n",
    "    for words in corpus:\n",
    "        sentence_length = len(words) #Obtain the length of words\n",
    "        \n",
    "        #For every word obtain the context_words and its label\n",
    "        for index, word in enumerate(words):\n",
    "            context_words = []\n",
    "            label_word   = []            \n",
    "            start = index - window_size\n",
    "            end = index + window_size + 1\n",
    "            \n",
    "            context_words.append([words[i] \n",
    "                                 for i in range(start, end) \n",
    "                                 if 0 <= i < sentence_length \n",
    "                                 and i != index])\n",
    "            label_word.append(word)\n",
    "\n",
    "            #Pad sequence if required and yield sequence and labels\n",
    "            x = sequence.pad_sequences(context_words, maxlen=context_length)\n",
    "            y = tensorflow.keras.utils.to_categorical(label_word, vocab_size)\n",
    "            yield (x, y)"
   ]
  },
  {
   "cell_type": "code",
   "execution_count": 7,
   "metadata": {},
   "outputs": [
    {
     "name": "stdout",
     "output_type": "stream",
     "text": [
      "Context (X): ['the', 'french', 'certainly', 'misunderstood'] -> Target (Y): are\n",
      "Context (X): ['french', 'are', 'misunderstood', 'but'] -> Target (Y): certainly\n",
      "Context (X): ['are', 'certainly', 'but', 'whether'] -> Target (Y): misunderstood\n",
      "Context (X): ['certainly', 'misunderstood', 'whether', 'the'] -> Target (Y): but\n",
      "Context (X): ['misunderstood', 'but', 'the', 'fault'] -> Target (Y): whether\n",
      "Context (X): ['but', 'whether', 'fault', 'is'] -> Target (Y): the\n",
      "Context (X): ['whether', 'the', 'is', 'theirs'] -> Target (Y): fault\n",
      "Context (X): ['the', 'fault', 'theirs', 'in'] -> Target (Y): is\n",
      "Context (X): ['fault', 'is', 'in', 'not'] -> Target (Y): theirs\n",
      "Context (X): ['is', 'theirs', 'not', 'sufficiently'] -> Target (Y): in\n",
      "Context (X): ['theirs', 'in', 'sufficiently', 'explaining'] -> Target (Y): not\n"
     ]
    }
   ],
   "source": [
    "# Test this out for some samples\n",
    "i = 0\n",
    "for x, y in generate_context_word_pairs(corpus=wids, window_size=window_size, vocab_size=vocab_size):\n",
    "    if 0 not in x[0]:\n",
    "        print('Context (X):', [id2word[w] for w in x[0]], '-> Target (Y):', id2word[np.argwhere(y[0])[0][0]])\n",
    "    \n",
    "        if i == 10:\n",
    "            break\n",
    "        i += 1"
   ]
  },
  {
   "cell_type": "code",
   "execution_count": 6,
   "metadata": {},
   "outputs": [],
   "source": [
    "#Results interpretation (first instance)\n",
    "#The first four words are the context words. \n",
    "#In this, the first two are words before the center word and the last two are words after the center word\n",
    "#Then the resulting target center word is \"are\""
   ]
  },
  {
   "cell_type": "code",
   "execution_count": 8,
   "metadata": {},
   "outputs": [
    {
     "name": "stdout",
     "output_type": "stream",
     "text": [
      "Model: \"sequential\"\n",
      "_________________________________________________________________\n",
      "Layer (type)                 Output Shape              Param #   \n",
      "=================================================================\n",
      "embedding (Embedding)        (None, 4, 100)            8000      \n",
      "_________________________________________________________________\n",
      "lambda (Lambda)              (None, 100)               0         \n",
      "_________________________________________________________________\n",
      "dense (Dense)                (None, 80)                8080      \n",
      "=================================================================\n",
      "Total params: 16,080\n",
      "Trainable params: 16,080\n",
      "Non-trainable params: 0\n",
      "_________________________________________________________________\n",
      "None\n"
     ]
    }
   ],
   "source": [
    "#Try Sequential Neural Network based prediction (CBOW Model)\n",
    "\n",
    "# build CBOW architecture\n",
    "cbow = Sequential()\n",
    "\n",
    "#Input context words passed to embedding layer (initialised with random weights)\n",
    "cbow.add(Embedding(input_dim=vocab_size, output_dim=embed_size, input_length=window_size*2))\n",
    "\n",
    "#Average out the word embeddings in lambda layer\n",
    "cbow.add(Lambda(lambda x: K.mean(x, axis=1), output_shape=(embed_size,)))\n",
    "\n",
    "#Averaged context embedding is passed to a dense softmax layer which outputs the probabilities of each word in the vocab\n",
    "cbow.add(Dense(vocab_size, activation='softmax'))\n",
    "\n",
    "#Compile the model\n",
    "cbow.compile(loss='categorical_crossentropy', optimizer='rmsprop')\n",
    "\n",
    "# view model summary (8000 parameters (vocab_size = 80) * (embed_size = 100) are to be trained)\n",
    "#No parameters are to be trained at the lambda layer\n",
    "#80 vocab * 100 embed_size = 8000 + 80(bias) = 8080 parmaters are the output \n",
    "\n",
    "print(cbow.summary())"
   ]
  },
  {
   "cell_type": "code",
   "execution_count": 9,
   "metadata": {},
   "outputs": [],
   "source": [
    "#Train the Model for 100 epochs as vocabulary is just 80. Takes couple of minutes\n",
    "#train_on_batch - runs a single gradient update on a single batch of data.\n",
    "Loss = []\n",
    "Epoch = []\n",
    "for epoch in range(1, 100):\n",
    "    loss = 0.\n",
    "    i = 0\n",
    "    for x, y in generate_context_word_pairs(corpus=wids, window_size=window_size, vocab_size=vocab_size):\n",
    "        i += 1\n",
    "        loss += cbow.train_on_batch(x, y)\n",
    "    Loss.append(loss)\n",
    "    Epoch.append(epoch)"
   ]
  },
  {
   "cell_type": "code",
   "execution_count": 10,
   "metadata": {},
   "outputs": [
    {
     "name": "stdout",
     "output_type": "stream",
     "text": [
      "Context (X): ['the', 'french', 'certainly', 'misunderstood'] -> Target (Y): are\n",
      "Context (X): ['french', 'are', 'misunderstood', 'but'] -> Target (Y): certainly\n",
      "Context (X): ['are', 'certainly', 'but', 'whether'] -> Target (Y): misunderstood\n",
      "Context (X): ['certainly', 'misunderstood', 'whether', 'the'] -> Target (Y): but\n",
      "Context (X): ['misunderstood', 'but', 'the', 'fault'] -> Target (Y): whether\n",
      "Context (X): ['but', 'whether', 'fault', 'is'] -> Target (Y): the\n",
      "Context (X): ['whether', 'the', 'is', 'theirs'] -> Target (Y): fault\n",
      "Context (X): ['the', 'fault', 'theirs', 'in'] -> Target (Y): is\n",
      "Context (X): ['fault', 'is', 'in', 'not'] -> Target (Y): theirs\n",
      "Context (X): ['is', 'theirs', 'not', 'sufficiently'] -> Target (Y): in\n",
      "Context (X): ['theirs', 'in', 'sufficiently', 'explaining'] -> Target (Y): not\n"
     ]
    }
   ],
   "source": [
    "# Test this out for some samples. \n",
    "i = 0\n",
    "for x, y in generate_context_word_pairs(corpus=wids, window_size=window_size, vocab_size=vocab_size):\n",
    "    if 0 not in x[0]:\n",
    "        print('Context (X):', [id2word[w] for w in x[0]], '-> Target (Y):', id2word[np.argmax(cbow.predict([x,y]))])\n",
    "        #print('Context (X):', [id2word[w] for w in x[0]])\n",
    "        if i == 10:\n",
    "            break\n",
    "        i += 1\n",
    "\n",
    "#Training for 100 epochs for a smaller corpus has yielded good prediction results. \n",
    "#Training for less than 10 epochs will result in poor predictions"
   ]
  },
  {
   "cell_type": "code",
   "execution_count": 11,
   "metadata": {},
   "outputs": [
    {
     "name": "stdout",
     "output_type": "stream",
     "text": [
      "(79, 100)\n"
     ]
    },
    {
     "data": {
      "text/html": [
       "<div>\n",
       "<style scoped>\n",
       "    .dataframe tbody tr th:only-of-type {\n",
       "        vertical-align: middle;\n",
       "    }\n",
       "\n",
       "    .dataframe tbody tr th {\n",
       "        vertical-align: top;\n",
       "    }\n",
       "\n",
       "    .dataframe thead th {\n",
       "        text-align: right;\n",
       "    }\n",
       "</style>\n",
       "<table border=\"1\" class=\"dataframe\">\n",
       "  <thead>\n",
       "    <tr style=\"text-align: right;\">\n",
       "      <th></th>\n",
       "      <th>0</th>\n",
       "      <th>1</th>\n",
       "      <th>2</th>\n",
       "      <th>3</th>\n",
       "      <th>4</th>\n",
       "      <th>5</th>\n",
       "      <th>6</th>\n",
       "      <th>7</th>\n",
       "      <th>8</th>\n",
       "      <th>9</th>\n",
       "      <th>...</th>\n",
       "      <th>90</th>\n",
       "      <th>91</th>\n",
       "      <th>92</th>\n",
       "      <th>93</th>\n",
       "      <th>94</th>\n",
       "      <th>95</th>\n",
       "      <th>96</th>\n",
       "      <th>97</th>\n",
       "      <th>98</th>\n",
       "      <th>99</th>\n",
       "    </tr>\n",
       "  </thead>\n",
       "  <tbody>\n",
       "    <tr>\n",
       "      <th>to</th>\n",
       "      <td>0.852154</td>\n",
       "      <td>-0.909942</td>\n",
       "      <td>0.412170</td>\n",
       "      <td>0.525520</td>\n",
       "      <td>1.155522</td>\n",
       "      <td>-0.697109</td>\n",
       "      <td>0.162528</td>\n",
       "      <td>-0.057547</td>\n",
       "      <td>0.234085</td>\n",
       "      <td>-0.342718</td>\n",
       "      <td>...</td>\n",
       "      <td>-0.501566</td>\n",
       "      <td>-0.265228</td>\n",
       "      <td>-0.989959</td>\n",
       "      <td>-0.558939</td>\n",
       "      <td>0.567455</td>\n",
       "      <td>-0.287729</td>\n",
       "      <td>-1.063588</td>\n",
       "      <td>-0.642793</td>\n",
       "      <td>-0.238514</td>\n",
       "      <td>0.377450</td>\n",
       "    </tr>\n",
       "    <tr>\n",
       "      <th>they</th>\n",
       "      <td>-0.355087</td>\n",
       "      <td>0.689162</td>\n",
       "      <td>-0.074675</td>\n",
       "      <td>0.447100</td>\n",
       "      <td>-0.364085</td>\n",
       "      <td>0.082830</td>\n",
       "      <td>-0.587688</td>\n",
       "      <td>0.312270</td>\n",
       "      <td>-0.614695</td>\n",
       "      <td>0.783426</td>\n",
       "      <td>...</td>\n",
       "      <td>0.183202</td>\n",
       "      <td>0.134065</td>\n",
       "      <td>0.158441</td>\n",
       "      <td>-0.761043</td>\n",
       "      <td>0.124788</td>\n",
       "      <td>0.669325</td>\n",
       "      <td>0.381242</td>\n",
       "      <td>0.357798</td>\n",
       "      <td>0.738200</td>\n",
       "      <td>-0.562784</td>\n",
       "    </tr>\n",
       "    <tr>\n",
       "      <th>the</th>\n",
       "      <td>0.140297</td>\n",
       "      <td>0.734499</td>\n",
       "      <td>0.016000</td>\n",
       "      <td>0.739054</td>\n",
       "      <td>-0.701238</td>\n",
       "      <td>-0.653234</td>\n",
       "      <td>0.110845</td>\n",
       "      <td>0.206770</td>\n",
       "      <td>-0.818757</td>\n",
       "      <td>0.072044</td>\n",
       "      <td>...</td>\n",
       "      <td>0.013164</td>\n",
       "      <td>-1.080587</td>\n",
       "      <td>0.359994</td>\n",
       "      <td>-0.587371</td>\n",
       "      <td>-0.101311</td>\n",
       "      <td>-0.296440</td>\n",
       "      <td>0.400391</td>\n",
       "      <td>0.139627</td>\n",
       "      <td>0.491590</td>\n",
       "      <td>-0.181183</td>\n",
       "    </tr>\n",
       "    <tr>\n",
       "      <th>be</th>\n",
       "      <td>0.563303</td>\n",
       "      <td>-0.332927</td>\n",
       "      <td>-1.126917</td>\n",
       "      <td>0.006636</td>\n",
       "      <td>0.421359</td>\n",
       "      <td>-0.786144</td>\n",
       "      <td>-0.266430</td>\n",
       "      <td>-0.342233</td>\n",
       "      <td>-0.132217</td>\n",
       "      <td>0.121101</td>\n",
       "      <td>...</td>\n",
       "      <td>0.305070</td>\n",
       "      <td>0.348162</td>\n",
       "      <td>-0.080301</td>\n",
       "      <td>0.006818</td>\n",
       "      <td>-0.346357</td>\n",
       "      <td>-0.865583</td>\n",
       "      <td>-0.157885</td>\n",
       "      <td>-0.361634</td>\n",
       "      <td>0.112093</td>\n",
       "      <td>0.262043</td>\n",
       "    </tr>\n",
       "    <tr>\n",
       "      <th>have</th>\n",
       "      <td>0.381923</td>\n",
       "      <td>-0.511404</td>\n",
       "      <td>0.446980</td>\n",
       "      <td>-0.875571</td>\n",
       "      <td>0.036914</td>\n",
       "      <td>0.060669</td>\n",
       "      <td>0.046296</td>\n",
       "      <td>-0.639367</td>\n",
       "      <td>-0.149370</td>\n",
       "      <td>-0.550834</td>\n",
       "      <td>...</td>\n",
       "      <td>-0.465896</td>\n",
       "      <td>0.964836</td>\n",
       "      <td>0.733412</td>\n",
       "      <td>-0.442579</td>\n",
       "      <td>0.680833</td>\n",
       "      <td>0.328109</td>\n",
       "      <td>-0.277793</td>\n",
       "      <td>-0.107638</td>\n",
       "      <td>-0.966456</td>\n",
       "      <td>-0.339343</td>\n",
       "    </tr>\n",
       "  </tbody>\n",
       "</table>\n",
       "<p>5 rows × 100 columns</p>\n",
       "</div>"
      ],
      "text/plain": [
       "            0         1         2         3         4         5         6   \\\n",
       "to    0.852154 -0.909942  0.412170  0.525520  1.155522 -0.697109  0.162528   \n",
       "they -0.355087  0.689162 -0.074675  0.447100 -0.364085  0.082830 -0.587688   \n",
       "the   0.140297  0.734499  0.016000  0.739054 -0.701238 -0.653234  0.110845   \n",
       "be    0.563303 -0.332927 -1.126917  0.006636  0.421359 -0.786144 -0.266430   \n",
       "have  0.381923 -0.511404  0.446980 -0.875571  0.036914  0.060669  0.046296   \n",
       "\n",
       "            7         8         9   ...        90        91        92  \\\n",
       "to   -0.057547  0.234085 -0.342718  ... -0.501566 -0.265228 -0.989959   \n",
       "they  0.312270 -0.614695  0.783426  ...  0.183202  0.134065  0.158441   \n",
       "the   0.206770 -0.818757  0.072044  ...  0.013164 -1.080587  0.359994   \n",
       "be   -0.342233 -0.132217  0.121101  ...  0.305070  0.348162 -0.080301   \n",
       "have -0.639367 -0.149370 -0.550834  ... -0.465896  0.964836  0.733412   \n",
       "\n",
       "            93        94        95        96        97        98        99  \n",
       "to   -0.558939  0.567455 -0.287729 -1.063588 -0.642793 -0.238514  0.377450  \n",
       "they -0.761043  0.124788  0.669325  0.381242  0.357798  0.738200 -0.562784  \n",
       "the  -0.587371 -0.101311 -0.296440  0.400391  0.139627  0.491590 -0.181183  \n",
       "be    0.006818 -0.346357 -0.865583 -0.157885 -0.361634  0.112093  0.262043  \n",
       "have -0.442579  0.680833  0.328109 -0.277793 -0.107638 -0.966456 -0.339343  \n",
       "\n",
       "[5 rows x 100 columns]"
      ]
     },
     "execution_count": 11,
     "metadata": {},
     "output_type": "execute_result"
    }
   ],
   "source": [
    "#Get word embeddings for the vocabulary\n",
    "\n",
    "weights = cbow.get_weights()[0] #Word embedding of PAD\n",
    "weights = weights[1:] #Exclude word embedding of PAD\n",
    "print(weights.shape) # 79 (80-1) vocabulary \n",
    "\n",
    "#Convert the weights to a dataframe for each of the word\n",
    "#A single row shows the word embedding done in 100 dimensions by CBOW model \n",
    "\n",
    "weightsDF = pd.DataFrame(weights, index=list(id2word.values())[1:]) #Shape (79,100)\n",
    "weightsDF.head()"
   ]
  },
  {
   "cell_type": "code",
   "execution_count": 12,
   "metadata": {},
   "outputs": [
    {
     "data": {
      "image/png": "[encoded data removed]",
      "text/plain": [
       "<Figure size 432x288 with 1 Axes>"
      ]
     },
     "metadata": {
      "needs_background": "light"
     },
     "output_type": "display_data"
    }
   ],
   "source": [
    "#Plot loss vs epoch\n",
    "epLoL = list(zip(Epoch, Loss)) #Zip the list\n",
    "epLoDF = pd.DataFrame(epLoL, columns = ['Epoch','Loss']) #Convert to a dataframe\n",
    "\n",
    "epLoDF.plot.line(x='Epoch', y= 'Loss', c='r')\n",
    "plt.xlabel('Epoch')\n",
    "plt.ylabel('Loss')\n",
    "plt.title('CBOW Model')\n",
    "plt.show()\n",
    "\n",
    "#Initially losses are high. Loss is decreasing steadily for 100 epochs. Prediction accuracy will hence improve if trained more."
   ]
  },
  {
   "cell_type": "code",
   "execution_count": 13,
   "metadata": {},
   "outputs": [],
   "source": [
    "#Try the CBOW model with slightly larger corpus\n",
    "#Download Alice in Wonderland from Project Gutenberg and store it in current working directory as Alice.txt"
   ]
  },
  {
   "cell_type": "code",
   "execution_count": 15,
   "metadata": {},
   "outputs": [
    {
     "name": "stdout",
     "output_type": "stream",
     "text": [
      "Total number of list elements:  3773\n",
      "Total length of list after removing empty strings:  2815\n",
      "First two elements:  ['Alice was beginning to get very tired of sitting by her sister on the', 'bank, and of having nothing to do: once or twice she had peeped into']\n",
      "Last two elements:  ['their simple joys, remembering her own child-life, and the happy summer', 'days.']\n"
     ]
    }
   ],
   "source": [
    "#Open the file\n",
    "f = open('Alice.txt','r', encoding = 'utf-8')\n",
    "\n",
    "#Read line by line\n",
    "alice = f.readlines()\n",
    "\n",
    "#Remove all \\n elements \n",
    "alRem = list(map(lambda s: s.strip(), alice ))\n",
    "\n",
    "#Check total number of elements\n",
    "print(\"Total number of list elements: \", len(alRem)) #3773 elements\n",
    "\n",
    "#List comprehension to remove empty strings\n",
    "alNoEmpStr = [i for i in alRem if i]\n",
    "\n",
    "#After removing empty strings, length of the list\n",
    "print(\"Total length of list after removing empty strings: \", len(alNoEmpStr)) #2815 elements\n",
    "\n",
    "#First sentence in Chapter One is 34th element and the last sentence is 2508th element\n",
    "#prepare a corpus based on these element numbers\n",
    "alCorpus = alNoEmpStr[34:2508]\n",
    "\n",
    "print(\"First two elements: \", alCorpus[0:2]) #First two elements in the list\n",
    "print(\"Last two elements: \", alCorpus[-2:]) #Last two elements in the list"
   ]
  },
  {
   "cell_type": "code",
   "execution_count": 16,
   "metadata": {},
   "outputs": [
    {
     "name": "stdout",
     "output_type": "stream",
     "text": [
      "Vocabulary Size: 3054\n",
      "Vocabulary Sample: [('the', 1), ('”', 2), ('and', 3), ('to', 4), ('a', 5), ('she', 6), ('of', 7), ('it', 8), ('said', 9), ('alice', 10)]\n"
     ]
    }
   ],
   "source": [
    "#Now corpus is ready for CBOW Modeling\n",
    "tokenizer = text.Tokenizer() #Tokenizer instance\n",
    "\n",
    "#Fit the tokenizer object on the Alice corpus\n",
    "tokenizer.fit_on_texts(alCorpus)\n",
    "\n",
    "#create a dictionary\n",
    "word2idAl = tokenizer.word_index\n",
    "\n",
    "#Build corpus vocabulary\n",
    "\n",
    "#The PAD term is to pad context words to a fixed length if needed.\n",
    "word2idAl['PAD'] = 0\n",
    "\n",
    "#Exchange key and values and store in id2word for reverse mapping\n",
    "id2wordAl = {v:k for k, v in word2idAl.items()}\n",
    "\n",
    "#Each word is mapped to a number and stored as a list of list\n",
    "widsAl = [[word2idAl[w] for w in text.text_to_word_sequence(doc)] for doc in alCorpus]\n",
    "#print(wids)\n",
    "\n",
    "#Size of the vocabulary\n",
    "vocab_size_alice = len(word2idAl)\n",
    "\n",
    "#Embedding size\n",
    "embed_size = 100\n",
    "\n",
    "#context window size\n",
    "window_size = 2 \n",
    "\n",
    "print('Vocabulary Size:', vocab_size_alice) #3054\n",
    "print('Vocabulary Sample:', list(word2idAl.items())[:10])\n",
    "\n",
    "#Check print(word2idAl) and print(id2wordAl)"
   ]
  },
  {
   "cell_type": "code",
   "execution_count": 17,
   "metadata": {},
   "outputs": [
    {
     "name": "stdout",
     "output_type": "stream",
     "text": [
      "Context (X): ['alice', 'was', 'to', 'get'] -> Target (Y): beginning\n",
      "Context (X): ['was', 'beginning', 'get', 'very'] -> Target (Y): to\n",
      "Context (X): ['beginning', 'to', 'very', 'tired'] -> Target (Y): get\n",
      "Context (X): ['to', 'get', 'tired', 'of'] -> Target (Y): very\n",
      "Context (X): ['get', 'very', 'of', 'sitting'] -> Target (Y): tired\n",
      "Context (X): ['very', 'tired', 'sitting', 'by'] -> Target (Y): of\n",
      "Context (X): ['tired', 'of', 'by', 'her'] -> Target (Y): sitting\n",
      "Context (X): ['of', 'sitting', 'her', 'sister'] -> Target (Y): by\n",
      "Context (X): ['sitting', 'by', 'sister', 'on'] -> Target (Y): her\n",
      "Context (X): ['by', 'her', 'on', 'the'] -> Target (Y): sister\n",
      "Context (X): ['bank', 'and', 'having', 'nothing'] -> Target (Y): of\n"
     ]
    }
   ],
   "source": [
    "#Call the generate_context_word_pairs function created earlier\n",
    "\n",
    "# Test this out for some samples\n",
    "i = 0\n",
    "for x, y in generate_context_word_pairs(corpus=widsAl, window_size=window_size, vocab_size=vocab_size_alice):\n",
    "    if 0 not in x[0]:\n",
    "        print('Context (X):', [id2wordAl[w] for w in x[0]], '-> Target (Y):', id2wordAl[np.argwhere(y[0])[0][0]])\n",
    "    \n",
    "        if i == 10:\n",
    "            break\n",
    "        i += 1"
   ]
  },
  {
   "cell_type": "code",
   "execution_count": 18,
   "metadata": {},
   "outputs": [],
   "source": [
    "# Sequential Neural Network based CBOW Model for Alice in Wonderland Corpus\n",
    "cbowAl = Sequential()\n",
    "\n",
    "#Input context words passed to embedding layer (initialised with random weights)\n",
    "cbowAl.add(Embedding(input_dim=vocab_size_alice, output_dim=embed_size, input_length=window_size*2))\n",
    "\n",
    "#Average out the word embeddings in lambda layer\n",
    "cbowAl.add(Lambda(lambda x: K.mean(x, axis=1), output_shape=(embed_size,)))\n",
    "\n",
    "#Averaged context embedding is passed to a dense softmax layer which outputs the probabilities of each word in the vocabulary\n",
    "cbowAl.add(Dense(vocab_size_alice, activation='softmax'))\n",
    "\n",
    "#Compile the model\n",
    "cbowAl.compile(loss='categorical_crossentropy', optimizer='rmsprop')"
   ]
  },
  {
   "cell_type": "code",
   "execution_count": 19,
   "metadata": {},
   "outputs": [
    {
     "name": "stdout",
     "output_type": "stream",
     "text": [
      "Model: \"sequential_1\"\n",
      "_________________________________________________________________\n",
      "Layer (type)                 Output Shape              Param #   \n",
      "=================================================================\n",
      "embedding_1 (Embedding)      (None, 4, 100)            305400    \n",
      "_________________________________________________________________\n",
      "lambda_1 (Lambda)            (None, 100)               0         \n",
      "_________________________________________________________________\n",
      "dense_1 (Dense)              (None, 3054)              308454    \n",
      "=================================================================\n",
      "Total params: 613,854\n",
      "Trainable params: 613,854\n",
      "Non-trainable params: 0\n",
      "_________________________________________________________________\n",
      "None\n"
     ]
    }
   ],
   "source": [
    "print(cbowAl.summary())"
   ]
  },
  {
   "cell_type": "code",
   "execution_count": 20,
   "metadata": {},
   "outputs": [],
   "source": [
    "#Number of parameters in the embedding layer = 3054 (Vocabulary of alice corpus) * 100 dimensions = 305400\n",
    "#Number of parameters in the dense output layer = 3054 * 100 (dim) + 3054 (bias) = 308454 parameters\n",
    "#All 613854 parameters are trainable compared to 16080 parameters in earlier model of vocab 80 words"
   ]
  },
  {
   "cell_type": "code",
   "execution_count": 21,
   "metadata": {},
   "outputs": [
    {
     "name": "stdout",
     "output_type": "stream",
     "text": [
      "Epoch: 1 \tLoss: 189024.347377792\n",
      "Epoch: 2 \tLoss: 228642.69925283268\n",
      "Epoch: 3 \tLoss: 232614.55808786396\n",
      "Epoch: 4 \tLoss: 236204.89445301797\n",
      "Epoch: 5 \tLoss: 243751.99776859814\n",
      "Epoch: 6 \tLoss: 247549.71646228596\n",
      "Epoch: 7 \tLoss: 249112.8310090748\n",
      "Epoch: 8 \tLoss: 249621.72604524484\n",
      "Epoch: 9 \tLoss: 251936.6662010532\n",
      "Epoch: 10 \tLoss: 253695.79349075432\n"
     ]
    }
   ],
   "source": [
    "#Train the model for 10 epochs. Each epoch takes at least 5 minutes. Total training time approximately 50 minutes\n",
    "#Loss is high (253695.793 after training for 10 epochs)\n",
    "LossAl = []\n",
    "EpochAl = []\n",
    "for epoch in range(1, 11):\n",
    "    loss = 0.\n",
    "    i = 0\n",
    "    for x, y in generate_context_word_pairs(corpus=widsAl, window_size=window_size, vocab_size=vocab_size_alice):\n",
    "        i += 1\n",
    "        loss += cbowAl.train_on_batch(x, y)\n",
    "        if i % 100000 == 0:\n",
    "            print('Processed {} (context, word) pairs'.format(i))\n",
    "    LossAl.append(loss)\n",
    "    EpochAl.append(epoch)\n",
    "\n",
    "    print('Epoch:', epoch, '\\tLoss:', loss)"
   ]
  },
  {
   "cell_type": "code",
   "execution_count": 22,
   "metadata": {},
   "outputs": [
    {
     "name": "stdout",
     "output_type": "stream",
     "text": [
      "Context (X): ['alice', 'was', 'to', 'get'] -> Target (Y): mock\n",
      "Context (X): ['was', 'beginning', 'get', 'very'] -> Target (Y): to\n",
      "Context (X): ['beginning', 'to', 'very', 'tired'] -> Target (Y): of\n",
      "Context (X): ['to', 'get', 'tired', 'of'] -> Target (Y): the\n",
      "Context (X): ['get', 'very', 'of', 'sitting'] -> Target (Y): one\n",
      "Context (X): ['very', 'tired', 'sitting', 'by'] -> Target (Y): of\n",
      "Context (X): ['tired', 'of', 'by', 'her'] -> Target (Y): one\n",
      "Context (X): ['of', 'sitting', 'her', 'sister'] -> Target (Y): and\n",
      "Context (X): ['sitting', 'by', 'sister', 'on'] -> Target (Y): her\n",
      "Context (X): ['by', 'her', 'on', 'the'] -> Target (Y): verses\n",
      "Context (X): ['bank', 'and', 'having', 'nothing'] -> Target (Y): of\n"
     ]
    }
   ],
   "source": [
    "# Test this out for some samples\n",
    "i = 0\n",
    "for x, y in generate_context_word_pairs(corpus=widsAl, window_size=window_size, vocab_size=vocab_size_alice):\n",
    "    if 0 not in x[0]:\n",
    "        print('Context (X):', [id2wordAl[w] for w in x[0]], '-> Target (Y):', id2wordAl[np.argmax(cbowAl.predict([x,y]))])\n",
    "        \n",
    "        if i == 10:\n",
    "            break\n",
    "        i += 1\n",
    "\n",
    "#Loss is high even after 10 epochs of training. Hence, the predicted word does not fit in properly\n",
    "\n",
    "#For second instance 'was begininning get very', the target center word 'to' is predicted correctly\n",
    "#For sixth instance 'very tired sitting by', the target center word 'of' is predicted correctly\n",
    "#For ninth instance 'sitting by sister on', the target center word 'her' is predicted correctly\n",
    "\n",
    "#Computation time for training the model is high for each epoch. "
   ]
  },
  {
   "cell_type": "code",
   "execution_count": 23,
   "metadata": {},
   "outputs": [
    {
     "data": {
      "image/png": "[encoded data removed]",
      "text/plain": [
       "<Figure size 432x288 with 1 Axes>"
      ]
     },
     "metadata": {
      "needs_background": "light"
     },
     "output_type": "display_data"
    }
   ],
   "source": [
    "#Plot loss vs epoch for Alice Corpus\n",
    "epLoAlL = list(zip(EpochAl, LossAl)) #Zip the list\n",
    "epLoAlDF = pd.DataFrame(epLoAlL, columns = ['Epoch','Loss']) #Convert to a dataframe\n",
    "\n",
    "epLoAlDF.plot.line(x='Epoch', y= 'Loss', c='r')\n",
    "plt.xlabel('Epoch')\n",
    "plt.ylabel('Loss')\n",
    "plt.title('CBOW Model for Alice in Wonderland corpus')\n",
    "plt.show()\n",
    "\n",
    "#Loss is increasing after 10 epochs. More training of the neural network is expected to reduce loss"
   ]
  },
  {
   "cell_type": "code",
   "execution_count": 24,
   "metadata": {},
   "outputs": [
    {
     "name": "stdout",
     "output_type": "stream",
     "text": [
      "(3053, 100)\n"
     ]
    },
    {
     "data": {
      "text/html": [
       "<div>\n",
       "<style scoped>\n",
       "    .dataframe tbody tr th:only-of-type {\n",
       "        vertical-align: middle;\n",
       "    }\n",
       "\n",
       "    .dataframe tbody tr th {\n",
       "        vertical-align: top;\n",
       "    }\n",
       "\n",
       "    .dataframe thead th {\n",
       "        text-align: right;\n",
       "    }\n",
       "</style>\n",
       "<table border=\"1\" class=\"dataframe\">\n",
       "  <thead>\n",
       "    <tr style=\"text-align: right;\">\n",
       "      <th></th>\n",
       "      <th>0</th>\n",
       "      <th>1</th>\n",
       "      <th>2</th>\n",
       "      <th>3</th>\n",
       "      <th>4</th>\n",
       "      <th>5</th>\n",
       "      <th>6</th>\n",
       "      <th>7</th>\n",
       "      <th>8</th>\n",
       "      <th>9</th>\n",
       "      <th>...</th>\n",
       "      <th>90</th>\n",
       "      <th>91</th>\n",
       "      <th>92</th>\n",
       "      <th>93</th>\n",
       "      <th>94</th>\n",
       "      <th>95</th>\n",
       "      <th>96</th>\n",
       "      <th>97</th>\n",
       "      <th>98</th>\n",
       "      <th>99</th>\n",
       "    </tr>\n",
       "  </thead>\n",
       "  <tbody>\n",
       "    <tr>\n",
       "      <th>”</th>\n",
       "      <td>-1.444450</td>\n",
       "      <td>-1.679047</td>\n",
       "      <td>1.369818</td>\n",
       "      <td>-1.749136</td>\n",
       "      <td>1.169654</td>\n",
       "      <td>-1.117093</td>\n",
       "      <td>1.990417</td>\n",
       "      <td>-1.209428</td>\n",
       "      <td>1.109718</td>\n",
       "      <td>-1.529737</td>\n",
       "      <td>...</td>\n",
       "      <td>1.694347</td>\n",
       "      <td>-1.397790</td>\n",
       "      <td>1.652419</td>\n",
       "      <td>-1.576714</td>\n",
       "      <td>-1.394550</td>\n",
       "      <td>0.884104</td>\n",
       "      <td>-1.962738</td>\n",
       "      <td>-1.950501</td>\n",
       "      <td>1.593528</td>\n",
       "      <td>-1.789765</td>\n",
       "    </tr>\n",
       "    <tr>\n",
       "      <th>and</th>\n",
       "      <td>-0.600773</td>\n",
       "      <td>-1.225610</td>\n",
       "      <td>1.170362</td>\n",
       "      <td>-0.733586</td>\n",
       "      <td>1.096177</td>\n",
       "      <td>-0.975140</td>\n",
       "      <td>2.770817</td>\n",
       "      <td>-1.270958</td>\n",
       "      <td>1.613718</td>\n",
       "      <td>-1.569972</td>\n",
       "      <td>...</td>\n",
       "      <td>0.969279</td>\n",
       "      <td>-1.599138</td>\n",
       "      <td>1.300984</td>\n",
       "      <td>-1.304014</td>\n",
       "      <td>-1.188717</td>\n",
       "      <td>1.050110</td>\n",
       "      <td>-1.654640</td>\n",
       "      <td>-1.252746</td>\n",
       "      <td>1.277909</td>\n",
       "      <td>-1.337074</td>\n",
       "    </tr>\n",
       "    <tr>\n",
       "      <th>to</th>\n",
       "      <td>-1.262331</td>\n",
       "      <td>-1.091118</td>\n",
       "      <td>1.393312</td>\n",
       "      <td>-0.968898</td>\n",
       "      <td>1.061633</td>\n",
       "      <td>-1.181811</td>\n",
       "      <td>2.019231</td>\n",
       "      <td>-1.810396</td>\n",
       "      <td>1.375010</td>\n",
       "      <td>-1.461204</td>\n",
       "      <td>...</td>\n",
       "      <td>1.400046</td>\n",
       "      <td>-1.332532</td>\n",
       "      <td>1.497840</td>\n",
       "      <td>-1.117057</td>\n",
       "      <td>-1.116535</td>\n",
       "      <td>1.393804</td>\n",
       "      <td>-1.268740</td>\n",
       "      <td>-1.310565</td>\n",
       "      <td>1.553882</td>\n",
       "      <td>-1.801036</td>\n",
       "    </tr>\n",
       "    <tr>\n",
       "      <th>a</th>\n",
       "      <td>-1.112520</td>\n",
       "      <td>-1.400369</td>\n",
       "      <td>1.073033</td>\n",
       "      <td>-1.245233</td>\n",
       "      <td>1.410770</td>\n",
       "      <td>-1.572835</td>\n",
       "      <td>2.268619</td>\n",
       "      <td>-1.201320</td>\n",
       "      <td>1.464215</td>\n",
       "      <td>-1.592534</td>\n",
       "      <td>...</td>\n",
       "      <td>1.100950</td>\n",
       "      <td>-1.672802</td>\n",
       "      <td>1.236765</td>\n",
       "      <td>-0.772997</td>\n",
       "      <td>-1.048615</td>\n",
       "      <td>1.386138</td>\n",
       "      <td>-1.290731</td>\n",
       "      <td>-1.347803</td>\n",
       "      <td>0.959468</td>\n",
       "      <td>-1.423941</td>\n",
       "    </tr>\n",
       "    <tr>\n",
       "      <th>she</th>\n",
       "      <td>-1.500956</td>\n",
       "      <td>-0.977607</td>\n",
       "      <td>0.744967</td>\n",
       "      <td>-1.182474</td>\n",
       "      <td>1.851719</td>\n",
       "      <td>-1.195286</td>\n",
       "      <td>2.921041</td>\n",
       "      <td>-1.174504</td>\n",
       "      <td>1.790422</td>\n",
       "      <td>-1.359003</td>\n",
       "      <td>...</td>\n",
       "      <td>1.301445</td>\n",
       "      <td>-1.079242</td>\n",
       "      <td>1.789387</td>\n",
       "      <td>-1.796575</td>\n",
       "      <td>-1.324456</td>\n",
       "      <td>1.499292</td>\n",
       "      <td>-1.353230</td>\n",
       "      <td>-1.283687</td>\n",
       "      <td>1.151912</td>\n",
       "      <td>-2.049520</td>\n",
       "    </tr>\n",
       "  </tbody>\n",
       "</table>\n",
       "<p>5 rows × 100 columns</p>\n",
       "</div>"
      ],
      "text/plain": [
       "           0         1         2         3         4         5         6   \\\n",
       "”   -1.444450 -1.679047  1.369818 -1.749136  1.169654 -1.117093  1.990417   \n",
       "and -0.600773 -1.225610  1.170362 -0.733586  1.096177 -0.975140  2.770817   \n",
       "to  -1.262331 -1.091118  1.393312 -0.968898  1.061633 -1.181811  2.019231   \n",
       "a   -1.112520 -1.400369  1.073033 -1.245233  1.410770 -1.572835  2.268619   \n",
       "she -1.500956 -0.977607  0.744967 -1.182474  1.851719 -1.195286  2.921041   \n",
       "\n",
       "           7         8         9   ...        90        91        92  \\\n",
       "”   -1.209428  1.109718 -1.529737  ...  1.694347 -1.397790  1.652419   \n",
       "and -1.270958  1.613718 -1.569972  ...  0.969279 -1.599138  1.300984   \n",
       "to  -1.810396  1.375010 -1.461204  ...  1.400046 -1.332532  1.497840   \n",
       "a   -1.201320  1.464215 -1.592534  ...  1.100950 -1.672802  1.236765   \n",
       "she -1.174504  1.790422 -1.359003  ...  1.301445 -1.079242  1.789387   \n",
       "\n",
       "           93        94        95        96        97        98        99  \n",
       "”   -1.576714 -1.394550  0.884104 -1.962738 -1.950501  1.593528 -1.789765  \n",
       "and -1.304014 -1.188717  1.050110 -1.654640 -1.252746  1.277909 -1.337074  \n",
       "to  -1.117057 -1.116535  1.393804 -1.268740 -1.310565  1.553882 -1.801036  \n",
       "a   -0.772997 -1.048615  1.386138 -1.290731 -1.347803  0.959468 -1.423941  \n",
       "she -1.796575 -1.324456  1.499292 -1.353230 -1.283687  1.151912 -2.049520  \n",
       "\n",
       "[5 rows x 100 columns]"
      ]
     },
     "execution_count": 24,
     "metadata": {},
     "output_type": "execute_result"
    }
   ],
   "source": [
    "#Get word embeddings for the vocabulary\n",
    "\n",
    "weightsAl = cbowAl.get_weights()[0] #Word embedding of PAD\n",
    "weightsAl = weightsAl[1:] #Exclude word embedding of PAD\n",
    "print(weightsAl.shape) # 3053 (3054-1) vocabulary \n",
    "\n",
    "#Convert the weights to a dataframe for each of the word\n",
    "#A single row shows the word embedding done in 100 dimensions by CBOW model for the alice corpus\n",
    "\n",
    "#Shape of dataframe (3053,100)\n",
    "\n",
    "aliceDF = pd.DataFrame(weightsAl, index=list(id2wordAl.values())[1:])\n",
    "aliceDF.head()"
   ]
  }
 ],
 "metadata": {
  "kernelspec": {
   "display_name": "Python 3",
   "language": "python",
   "name": "python3"
  },
  "language_info": {
   "codemirror_mode": {
    "name": "ipython",
    "version": 3
   },
   "file_extension": ".py",
   "mimetype": "text/x-python",
   "name": "python",
   "nbconvert_exporter": "python",
   "pygments_lexer": "ipython3",
   "version": "3.8.3"
  }
 },
 "nbformat": 4,
 "nbformat_minor": 4
}
