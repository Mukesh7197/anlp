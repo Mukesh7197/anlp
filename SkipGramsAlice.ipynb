{
 "cells": [
  {
   "cell_type": "code",
   "execution_count": 1,
   "metadata": {},
   "outputs": [],
   "source": [
    "#Original code contributions by Dipanjan Sarkar\n",
    "#https://www.kdnuggets.com/2018/04/implementing-deep-learning-methods-feature-engineering-text-data-skip-gram.html\n",
    "\n",
    "#Merge layer is deprecated. Dot directly on embedding code from the following site\n",
    "#https://stackoverflow.com/questions/52542275/merging-layers-on-keras-dot-product\n",
    "\n",
    "#Contribution from Mukesh: (i) Preprocessing of Alice Corpus before training the Neural Network Model\n",
    "#                          (ii) Loss Vs Epoch plots\n",
    "\n",
    "#Skip gram Model\n",
    "#It tries to predict the source context words (surrounding words) given a target word (the center word).\n",
    "#Obtain word embeddings and explore similarity of words\n",
    "\n",
    "#Build the corpus vocabulary\n",
    "#Build a skip-gram [(target, context), relevancy] generator\n",
    "#Build the skip-gram model architecture\n",
    "#Train the Model\n",
    "#Evaluate the model\n",
    "#Check context relevancy\n",
    "#Visualise word embedding"
   ]
  },
  {
   "cell_type": "code",
   "execution_count": 2,
   "metadata": {},
   "outputs": [
    {
     "name": "stdout",
     "output_type": "stream",
     "text": [
      "Pretty printing has been turned OFF\n"
     ]
    }
   ],
   "source": [
    "#Import libraries\n",
    "\n",
    "import pandas as pd\n",
    "import numpy as np\n",
    "import matplotlib.pyplot as plt\n",
    "import tensorflow\n",
    "from tensorflow.keras.preprocessing import text\n",
    "from tensorflow.keras.preprocessing.sequence import skipgrams\n",
    "from tensorflow.keras.layers import Input\n",
    "from tensorflow.keras.models import Model\n",
    "from tensorflow.keras.layers import Embedding\n",
    "from tensorflow.keras.layers import Dense, Reshape\n",
    "from tensorflow.keras.layers import dot\n",
    "from tensorflow.keras.models import Sequential\n",
    "%pprint off"
   ]
  },
  {
   "cell_type": "code",
   "execution_count": 3,
   "metadata": {},
   "outputs": [
    {
     "name": "stdout",
     "output_type": "stream",
     "text": [
      "Vocabulary Size: 80\n",
      "Vocabulary Sample: [('not', 1), ('to', 2), ('they', 3), ('the', 4), ('be', 5), ('have', 6), ('seen', 7), ('but', 8), ('whether', 9), ('fault', 10)]\n"
     ]
    }
   ],
   "source": [
    "#Laurence Sterne, “The Life and Opinions of Tristram Shandy.” 107 words.\n",
    "corpus = [\"The French are certainly misunderstood:- but whether the fault is theirs, in not sufficiently explaining themselves, or speaking with that exact limitation and precision which one would expect on a point of such importance, and which, moreover, is so likely to be contested by us — or whether the fault may not be altogether on our side, in not understanding their language always so critically as to know “what they would be at” — I shall not decide; but ‘tis evident to me, when they affirm, “That they who have seen Paris, have seen every thing,” they must mean to speak of those who have seen it by day-light.\"]\n",
    "\n",
    "tokenizer = text.Tokenizer()\n",
    "tokenizer.fit_on_texts(corpus)\n",
    "\n",
    "word2id = tokenizer.word_index\n",
    "id2word = {v:k for k, v in word2id.items()}\n",
    "\n",
    "vocab_size = len(word2id) + 1 \n",
    "embed_size = 100\n",
    "\n",
    "wids = [[word2id[w] for w in text.text_to_word_sequence(doc)] for doc in corpus]\n",
    "\n",
    "print('Vocabulary Size:', vocab_size) #80\n",
    "print('Vocabulary Sample:', list(word2id.items())[:10])"
   ]
  },
  {
   "cell_type": "code",
   "execution_count": 4,
   "metadata": {},
   "outputs": [
    {
     "name": "stdout",
     "output_type": "stream",
     "text": [
      "{'not': 1, 'to': 2, 'they': 3, 'the': 4, 'be': 5, 'have': 6, 'seen': 7, 'but': 8, 'whether': 9, 'fault': 10, 'is': 11, 'in': 12, 'or': 13, 'and': 14, 'which': 15, 'would': 16, 'on': 17, 'of': 18, 'so': 19, 'by': 20, '—': 21, 'who': 22, 'french': 23, 'are': 24, 'certainly': 25, 'misunderstood': 26, 'theirs': 27, 'sufficiently': 28, 'explaining': 29, 'themselves': 30, 'speaking': 31, 'with': 32, 'that': 33, 'exact': 34, 'limitation': 35, 'precision': 36, 'one': 37, 'expect': 38, 'a': 39, 'point': 40, 'such': 41, 'importance': 42, 'moreover': 43, 'likely': 44, 'contested': 45, 'us': 46, 'may': 47, 'altogether': 48, 'our': 49, 'side': 50, 'understanding': 51, 'their': 52, 'language': 53, 'always': 54, 'critically': 55, 'as': 56, 'know': 57, '“what': 58, 'at”': 59, 'i': 60, 'shall': 61, 'decide': 62, '‘tis': 63, 'evident': 64, 'me': 65, 'when': 66, 'affirm': 67, '“that': 68, 'paris': 69, 'every': 70, 'thing': 71, '”': 72, 'must': 73, 'mean': 74, 'speak': 75, 'those': 76, 'it': 77, 'day': 78, 'light': 79}\n"
     ]
    }
   ],
   "source": [
    "#Dictionary of the corpus from word to index\n",
    "print(word2id)"
   ]
  },
  {
   "cell_type": "code",
   "execution_count": 5,
   "metadata": {},
   "outputs": [
    {
     "name": "stdout",
     "output_type": "stream",
     "text": [
      "{1: 'not', 2: 'to', 3: 'they', 4: 'the', 5: 'be', 6: 'have', 7: 'seen', 8: 'but', 9: 'whether', 10: 'fault', 11: 'is', 12: 'in', 13: 'or', 14: 'and', 15: 'which', 16: 'would', 17: 'on', 18: 'of', 19: 'so', 20: 'by', 21: '—', 22: 'who', 23: 'french', 24: 'are', 25: 'certainly', 26: 'misunderstood', 27: 'theirs', 28: 'sufficiently', 29: 'explaining', 30: 'themselves', 31: 'speaking', 32: 'with', 33: 'that', 34: 'exact', 35: 'limitation', 36: 'precision', 37: 'one', 38: 'expect', 39: 'a', 40: 'point', 41: 'such', 42: 'importance', 43: 'moreover', 44: 'likely', 45: 'contested', 46: 'us', 47: 'may', 48: 'altogether', 49: 'our', 50: 'side', 51: 'understanding', 52: 'their', 53: 'language', 54: 'always', 55: 'critically', 56: 'as', 57: 'know', 58: '“what', 59: 'at”', 60: 'i', 61: 'shall', 62: 'decide', 63: '‘tis', 64: 'evident', 65: 'me', 66: 'when', 67: 'affirm', 68: '“that', 69: 'paris', 70: 'every', 71: 'thing', 72: '”', 73: 'must', 74: 'mean', 75: 'speak', 76: 'those', 77: 'it', 78: 'day', 79: 'light'}\n"
     ]
    }
   ],
   "source": [
    "#Reverse dictionary of the corpus from index to word\n",
    "print(id2word)"
   ]
  },
  {
   "cell_type": "code",
   "execution_count": 6,
   "metadata": {},
   "outputs": [
    {
     "name": "stdout",
     "output_type": "stream",
     "text": [
      "Length of skip_grams:  1\n",
      "Number of skip_grams labels generated:  4220 \n",
      "\n",
      "(that (33), one (37)) -> 1\n",
      "(every (70), have (6)) -> 1\n",
      "(whether (9), language (53)) -> 0\n",
      "(expect (38), speak (75)) -> 0\n",
      "(they (3), decide (62)) -> 1\n",
      "(limitation (35), fault (10)) -> 0\n",
      "(themselves (30), mean (74)) -> 0\n",
      "(misunderstood (26), the (4)) -> 1\n",
      "(and (14), seen (7)) -> 0\n",
      "(importance (42), know (57)) -> 0\n"
     ]
    }
   ],
   "source": [
    "#Build a skip-gram [(target, context), relevancy] generator\n",
    "\n",
    "#The function skipgrams(…) is present in keras.preprocessing.sequence\n",
    "#skip-gram model - pairs of (X, Y) where X is input and Y is label.\n",
    "\n",
    "#[(target, context), 1] pairs as positive input samples \n",
    "#where target is word of interest and context is a context word occurring near the target word \n",
    "#and the positive label 1 indicates this is a contextually relevant pair.\n",
    "\n",
    "#[(target, random), 0] pairs as negative input samples where target is word of interest \n",
    "#but random is just a randomly selected word from vocabulary which has no context or association with target word.\n",
    "#Hence the negative label 0. Indicates this is a contextually irrelevant pair.\n",
    "\n",
    "# generate skip-grams with window_size of 5 by choosing window_size - 10\n",
    "skip_grams = [skipgrams(wid, vocabulary_size=vocab_size, window_size=10) for wid in wids]\n",
    "\n",
    "print(\"Length of skip_grams: \", len(skip_grams)) #1\n",
    "\n",
    "# view sample skip-grams\n",
    "pairs, labels = skip_grams[0][0], skip_grams[0][1]\n",
    "\n",
    "print(\"Number of skip_grams labels generated: \", len(labels), \"\\n\") #4220 labels\n",
    "\n",
    "#Number of labels \n",
    "\n",
    "#This function transforms a sequence of word indexes (list of integers) into tuples of words of the form:\n",
    "#- (word, word in the same window), with label 1 (positive samples - contextually relevant pair).\n",
    "#- (word, random word from the vocabulary), with label 0 (negative samples - contextually irrelevant pair).\n",
    "\n",
    "#Generate 10 bigrams and show them(word (index)) with their relevancy (0/1)\n",
    "for i in range(10):\n",
    "    print(\"({:s} ({:d}), {:s} ({:d})) -> {:d}\".format(\n",
    "          id2word[pairs[i][0]], pairs[i][0], \n",
    "          id2word[pairs[i][1]], pairs[i][1], \n",
    "          labels[i]))"
   ]
  },
  {
   "cell_type": "code",
   "execution_count": 7,
   "metadata": {},
   "outputs": [],
   "source": [
    "#Build Neural Network Model for Skipgrams \n",
    "\n",
    "#For target and context\n",
    "input_target = Input((1,), name='word')\n",
    "input_context = Input((1,), name = 'context')\n",
    "\n",
    "#For embedding into 100 dimensions\n",
    "embedding = Embedding(vocab_size, embed_size, input_length=1)\n",
    "\n",
    "#Once the target word is embedded, reshape \n",
    "word_embedding = embedding(input_target)\n",
    "word_embedding = Reshape((embed_size, 1))(word_embedding)\n",
    "\n",
    "#Once the context word is embedded, reshape \n",
    "context_embedding = embedding(input_context)\n",
    "context_embedding = Reshape((embed_size, 1))(context_embedding)\n",
    "\n",
    "# now perform the dot product operation  \n",
    "dot_product = dot([word_embedding, context_embedding], axes=1)\n",
    "dot_product = Reshape((1,))(dot_product)\n",
    "\n",
    "# add the sigmoid output layer\n",
    "output = Dense(1, activation='sigmoid')(dot_product)\n",
    "\n",
    "#Model class groups layers into an object with training and inference features.\n",
    "model = Model(inputs=[input_target, input_context], outputs=output)"
   ]
  },
  {
   "cell_type": "code",
   "execution_count": 8,
   "metadata": {},
   "outputs": [
    {
     "name": "stdout",
     "output_type": "stream",
     "text": [
      "Model: \"functional_1\"\n",
      "__________________________________________________________________________________________________\n",
      "Layer (type)                    Output Shape         Param #     Connected to                     \n",
      "==================================================================================================\n",
      "word (InputLayer)               [(None, 1)]          0                                            \n",
      "__________________________________________________________________________________________________\n",
      "context (InputLayer)            [(None, 1)]          0                                            \n",
      "__________________________________________________________________________________________________\n",
      "embedding (Embedding)           (None, 1, 100)       8000        word[0][0]                       \n",
      "                                                                 context[0][0]                    \n",
      "__________________________________________________________________________________________________\n",
      "reshape (Reshape)               (None, 100, 1)       0           embedding[0][0]                  \n",
      "__________________________________________________________________________________________________\n",
      "reshape_1 (Reshape)             (None, 100, 1)       0           embedding[1][0]                  \n",
      "__________________________________________________________________________________________________\n",
      "dot (Dot)                       (None, 1, 1)         0           reshape[0][0]                    \n",
      "                                                                 reshape_1[0][0]                  \n",
      "__________________________________________________________________________________________________\n",
      "reshape_2 (Reshape)             (None, 1)            0           dot[0][0]                        \n",
      "__________________________________________________________________________________________________\n",
      "dense (Dense)                   (None, 1)            2           reshape_2[0][0]                  \n",
      "==================================================================================================\n",
      "Total params: 8,002\n",
      "Trainable params: 8,002\n",
      "Non-trainable params: 0\n",
      "__________________________________________________________________________________________________\n",
      "None\n"
     ]
    }
   ],
   "source": [
    "#Compile the model based on rmsprop optimizer and loss to be considered is MSE\n",
    "model.compile(loss='mean_squared_error', optimizer='rmsprop')\n",
    "\n",
    "# view model summary\n",
    "print(model.summary()) #(Vocab(80) * Embedding Dimensions (100) = 8000 + dense layer (2)). Total parameters 8002"
   ]
  },
  {
   "cell_type": "code",
   "execution_count": 9,
   "metadata": {},
   "outputs": [],
   "source": [
    "#Training the model for 100 epochs. Takes few seconds to train\n",
    "#4220 skipgrams generated on a vocabulary of 80 words. \n",
    "#All the 4220 skipgrams with 4220 context relevancy labels will be trained for 100 epochs \n",
    "\n",
    "import numpy as np\n",
    "Loss = []\n",
    "Epoch = []\n",
    "for epoch in range(1, 100):\n",
    "    loss = 0\n",
    "    for i, elem in enumerate(skip_grams):\n",
    "        pair_first_elem = np.array(list(zip(*elem[0]))[0], dtype='int32')\n",
    "        pair_second_elem = np.array(list(zip(*elem[0]))[1], dtype='int32')\n",
    "        labels = np.array(elem[1], dtype='int32')\n",
    "        X = [pair_first_elem, pair_second_elem]\n",
    "        Y = labels\n",
    "        loss += model.train_on_batch(X,Y)\n",
    "    Loss.append(loss)\n",
    "    Epoch.append(epoch)"
   ]
  },
  {
   "cell_type": "code",
   "execution_count": 10,
   "metadata": {},
   "outputs": [
    {
     "data": {
      "image/png": "[encoded data removed]",
      "text/plain": [
       "<Figure size 432x288 with 1 Axes>"
      ]
     },
     "metadata": {
      "needs_background": "light"
     },
     "output_type": "display_data"
    }
   ],
   "source": [
    "#Plot loss vs epoch\n",
    "epLoL = list(zip(Epoch, Loss)) #Zip the list\n",
    "epLoDF = pd.DataFrame(epLoL, columns = ['Epoch','Loss']) #Convert to a dataframe\n",
    "\n",
    "epLoDF.plot.line(x='Epoch', y= 'Loss', c='r')\n",
    "plt.xlabel('Epoch')\n",
    "plt.ylabel('Loss')\n",
    "plt.title('Skipgram Model')\n",
    "plt.show()\n",
    "\n",
    "#Loss is decreasing after 100 epochs of training"
   ]
  },
  {
   "cell_type": "code",
   "execution_count": 11,
   "metadata": {},
   "outputs": [],
   "source": [
    "#Try the Skipgram model with slightly larger corpus\n",
    "#Download Alice in Wonderland from Project Gutenberg and store it in current working directory as Alice.txt"
   ]
  },
  {
   "cell_type": "code",
   "execution_count": 12,
   "metadata": {},
   "outputs": [
    {
     "name": "stdout",
     "output_type": "stream",
     "text": [
      "Total number of list elements:  3773\n",
      "Total length of list after removing empty strings:  2815\n",
      "First two elements:  ['Alice was beginning to get very tired of sitting by her sister on the', 'bank, and of having nothing to do: once or twice she had peeped into']\n",
      "Last two elements:  ['their simple joys, remembering her own child-life, and the happy summer', 'days.']\n"
     ]
    }
   ],
   "source": [
    "#Open the file\n",
    "f = open('Alice.txt','r', encoding = 'utf-8')\n",
    "\n",
    "#Read line by line\n",
    "alice = f.readlines()\n",
    "\n",
    "#Remove all \\n elements \n",
    "alRem = list(map(lambda s: s.strip(), alice ))\n",
    "\n",
    "#Check total number of elements\n",
    "print(\"Total number of list elements: \", len(alRem)) #3773 elements\n",
    "\n",
    "#List comprehension to remove empty strings\n",
    "alNoEmpStr = [i for i in alRem if i]\n",
    "\n",
    "#After removing empty strings, length of the list\n",
    "print(\"Total length of list after removing empty strings: \", len(alNoEmpStr)) #2815 elements\n",
    "\n",
    "#First sentence in Chapter One is 34th element and the last sentence is 2508th element\n",
    "#prepare a corpus based on these element numbers\n",
    "alCorpus = alNoEmpStr[34:2508]\n",
    "\n",
    "print(\"First two elements: \", alCorpus[0:2]) #First two elements in the list\n",
    "print(\"Last two elements: \", alCorpus[-2:]) #Last two elements in the list"
   ]
  },
  {
   "cell_type": "code",
   "execution_count": 13,
   "metadata": {},
   "outputs": [
    {
     "name": "stdout",
     "output_type": "stream",
     "text": [
      "Vocabulary Size: 3055\n",
      "Vocabulary Sample: [('the', 1), ('”', 2), ('and', 3), ('to', 4), ('a', 5), ('she', 6), ('of', 7), ('it', 8), ('said', 9), ('alice', 10), ('in', 11), ('was', 12), ('you', 13), ('i', 14), ('that', 15), ('as', 16), ('her', 17), ('at', 18), ('on', 19), ('with', 20), ('had', 21), ('all', 22), ('be', 23), ('for', 24), ('so', 25)]\n"
     ]
    }
   ],
   "source": [
    "#Now corpus is ready for Skip-gram Modeling\n",
    "tokenizer = text.Tokenizer() #Tokenizer instance\n",
    "\n",
    "#Fit the tokenizer object on the Alice corpus\n",
    "tokenizer.fit_on_texts(alCorpus)\n",
    "\n",
    "#create a dictionary\n",
    "word2idAl = tokenizer.word_index\n",
    "\n",
    "#Build corpus vocabulary\n",
    "\n",
    "#The PAD term is to pad context words to a fixed length if needed.\n",
    "word2idAl['PAD'] = 0\n",
    "\n",
    "#Exchange key and values and store in id2word for reverse mapping\n",
    "id2wordAl = {v:k for k, v in word2idAl.items()}\n",
    "\n",
    "#Each word is mapped to a number and stored as a list of list\n",
    "widsAl = [[word2idAl[w] for w in text.text_to_word_sequence(doc)] for doc in alCorpus]\n",
    "#print(wids)\n",
    "\n",
    "#Size of the vocabulary\n",
    "vocab_size_alice = len(word2idAl)\n",
    "\n",
    "#Embedding dimension \n",
    "embed_size = 100\n",
    "\n",
    "#context window size\n",
    "window_size = 10 \n",
    "\n",
    "print('Vocabulary Size:', vocab_size_alice) #3054\n",
    "print('Vocabulary Sample:', list(word2idAl.items())[:25])"
   ]
  },
  {
   "cell_type": "code",
   "execution_count": 14,
   "metadata": {},
   "outputs": [
    {
     "name": "stdout",
     "output_type": "stream",
     "text": [
      "Length of skip_grams_alice:  2474\n",
      "Number of labels in first element:  340\n",
      "Number of labels in last element:  260\n",
      "(beginning (287), her (17)) -> 1\n",
      "(very (26), get (105)) -> 1\n",
      "(was (12), very (26)) -> 1\n",
      "(get (105), few (413)) -> 0\n",
      "(beginning (287), tired (492)) -> 1\n",
      "(to (4), was (12)) -> 1\n",
      "(was (12), beginning (287)) -> 1\n",
      "(of (7), to (4)) -> 1\n",
      "(of (7), “pray (2607)) -> 0\n",
      "(get (105), her (17)) -> 1\n"
     ]
    }
   ],
   "source": [
    "# generate skip-grams with window_size of 5\n",
    "skip_grams_alice = [skipgrams(wid, vocabulary_size=vocab_size_alice, window_size=10) for wid in widsAl]\n",
    "\n",
    "print(\"Length of skip_grams_alice: \", len(skip_grams_alice)) #2474\n",
    "\n",
    "# view sample skip-grams from first element\n",
    "pairs_alice, labels_alice = skip_grams_alice[0][0], skip_grams_alice[0][1]\n",
    "print(\"Number of labels in first element: \", len(labels_alice)) #340\n",
    "\n",
    "pairs_last_alice, labels_last_alice = skip_grams_alice[-2][0], skip_grams_alice[-2][1]\n",
    "print(\"Number of labels in last element: \", len(labels_last_alice)) #260\n",
    "\n",
    "#Number of skipgrams generated are different as number of words in 2815 elements of list are different\n",
    "\n",
    "#- (word, word in the same window), with label 1 (positive samples - contextually relevant pair).\n",
    "#- (word, random word from the vocabulary), with label 0 (negative samples - contextually irrelevant pair).\n",
    "\n",
    "for i in range(10):\n",
    "    print(\"({:s} ({:d}), {:s} ({:d})) -> {:d}\".format(\n",
    "          id2wordAl[pairs_alice[i][0]], pairs_alice[i][0], \n",
    "          id2wordAl[pairs_alice[i][1]], pairs_alice[i][1], \n",
    "          labels_alice[i]))"
   ]
  },
  {
   "cell_type": "code",
   "execution_count": 15,
   "metadata": {},
   "outputs": [
    {
     "name": "stdout",
     "output_type": "stream",
     "text": [
      "Total skipgrams generated:  603232\n",
      "Total skipgrams context labels generated:  603232\n",
      "Length of first element of pairsLabels:  603232\n",
      "Length of labels:  603232\n"
     ]
    }
   ],
   "source": [
    "#Get all the skipgram pairs and labels generated in a single list \n",
    "\n",
    "pairsList = []\n",
    "labelsList = []\n",
    "\n",
    "for i in range(len(skip_grams_alice)):\n",
    "    pairs, labels = skip_grams_alice[i][0], skip_grams_alice[i][1]\n",
    "    pairsList.extend(pairs)\n",
    "    labelsList.extend(labels)\n",
    "\n",
    "print(\"Total skipgrams generated: \", len(pairsList))  #603232  \n",
    "print(\"Total skipgrams context labels generated: \", len(labelsList)) ##603232\n",
    "\n",
    "#List of list to hold pairs and labels\n",
    "pairsLabels = [pairsList, labelsList]\n",
    "\n",
    "#Confirm length of skipgramsList \n",
    "print(\"Length of first element of pairsLabels: \", len(np.array(list(zip(*pairsLabels[0]))[0], dtype='int32'))) #603232\n",
    "\n",
    "#Confirm length of labels in pairsLabelsList\n",
    "print(\"Length of labels: \", len(np.array(pairsLabels[1], dtype='int32'))) #603232  "
   ]
  },
  {
   "cell_type": "code",
   "execution_count": 16,
   "metadata": {},
   "outputs": [],
   "source": [
    "#Build Skipgrams Neural Network Model for Alice Corpus \n",
    "\n",
    "#For target and context\n",
    "input_target_a = Input((1,), name='aliceWord')\n",
    "input_context_a = Input((1,), name = 'aliceContext')\n",
    "\n",
    "#For embedding\n",
    "embedding_a = Embedding(vocab_size_alice, embed_size, input_length=1, name='aliceEmbedding')\n",
    "\n",
    "#Once the target word is embedded, reshape \n",
    "word_embedding_a = embedding_a(input_target_a)\n",
    "word_embedding_a = Reshape((embed_size, 1))(word_embedding_a)\n",
    "\n",
    "#Once the context word is embedded, reshape \n",
    "context_embedding_a = embedding_a(input_context_a)\n",
    "context_embedding_a = Reshape((embed_size, 1))(context_embedding_a)\n",
    "\n",
    "# now perform the dot product operation  \n",
    "dot_product_a = dot([word_embedding_a, context_embedding_a], axes=1)\n",
    "dot_product_a = Reshape((1,))(dot_product_a)\n",
    "\n",
    "# add the sigmoid output layer\n",
    "output_a = Dense(1, activation='sigmoid')(dot_product_a)\n",
    "\n",
    "#Model class groups layers into an object with training and inference features.\n",
    "model_alice = Model(inputs=[input_target_a, input_context_a], outputs=output_a)"
   ]
  },
  {
   "cell_type": "code",
   "execution_count": 17,
   "metadata": {},
   "outputs": [
    {
     "name": "stdout",
     "output_type": "stream",
     "text": [
      "Model: \"functional_3\"\n",
      "__________________________________________________________________________________________________\n",
      "Layer (type)                    Output Shape         Param #     Connected to                     \n",
      "==================================================================================================\n",
      "aliceWord (InputLayer)          [(None, 1)]          0                                            \n",
      "__________________________________________________________________________________________________\n",
      "aliceContext (InputLayer)       [(None, 1)]          0                                            \n",
      "__________________________________________________________________________________________________\n",
      "aliceEmbedding (Embedding)      (None, 1, 100)       305500      aliceWord[0][0]                  \n",
      "                                                                 aliceContext[0][0]               \n",
      "__________________________________________________________________________________________________\n",
      "reshape_3 (Reshape)             (None, 100, 1)       0           aliceEmbedding[0][0]             \n",
      "__________________________________________________________________________________________________\n",
      "reshape_4 (Reshape)             (None, 100, 1)       0           aliceEmbedding[1][0]             \n",
      "__________________________________________________________________________________________________\n",
      "dot_1 (Dot)                     (None, 1, 1)         0           reshape_3[0][0]                  \n",
      "                                                                 reshape_4[0][0]                  \n",
      "__________________________________________________________________________________________________\n",
      "reshape_5 (Reshape)             (None, 1)            0           dot_1[0][0]                      \n",
      "__________________________________________________________________________________________________\n",
      "dense_1 (Dense)                 (None, 1)            2           reshape_5[0][0]                  \n",
      "==================================================================================================\n",
      "Total params: 305,502\n",
      "Trainable params: 305,502\n",
      "Non-trainable params: 0\n",
      "__________________________________________________________________________________________________\n",
      "None\n"
     ]
    }
   ],
   "source": [
    "#Compile the model\n",
    "model_alice.compile(loss='mean_squared_error', optimizer='rmsprop')\n",
    "\n",
    "# view model summary\n",
    "print(model_alice.summary()) #Vocab(3054) * Embedding Dimensions (300) = 916200 + dense layer (2). Total parameters 916202"
   ]
  },
  {
   "cell_type": "code",
   "execution_count": 18,
   "metadata": {},
   "outputs": [],
   "source": [
    "#Train the model for 100 epochs. Takes less than five minutes to train\n",
    "#603232 skipgrams generated from a vocabulary of 3054. \n",
    "#All the 603232 skipgrams with 603232 context relevancy labels will be trained for 100 epochs \n",
    "\n",
    "import numpy as np\n",
    "LossAl = []\n",
    "EpochAl = []\n",
    "for epoch in range(1, 100):\n",
    "    loss = 0\n",
    "    pair_first_elem = np.array(list(zip(*pairsLabels[0]))[0], dtype='int32')\n",
    "    pair_second_elem = np.array(list(zip(*pairsLabels[0]))[1], dtype='int32')\n",
    "    labels = np.array(pairsLabels[1], dtype='int32')\n",
    "    X = [pair_first_elem, pair_second_elem]\n",
    "    Y = labels\n",
    "    loss += model_alice.train_on_batch(X,Y)\n",
    "    LossAl.append(loss)\n",
    "    EpochAl.append(epoch)"
   ]
  },
  {
   "cell_type": "code",
   "execution_count": 19,
   "metadata": {},
   "outputs": [
    {
     "data": {
      "image/png": "[encoded data removed]",
      "text/plain": [
       "<Figure size 432x288 with 1 Axes>"
      ]
     },
     "metadata": {
      "needs_background": "light"
     },
     "output_type": "display_data"
    }
   ],
   "source": [
    "#Plot loss vs epoch\n",
    "epLoAlL = list(zip(EpochAl, LossAl)) #Zip the list\n",
    "epLoAlDF = pd.DataFrame(epLoAlL, columns = ['Epoch','Loss']) #Convert to a dataframe\n",
    "\n",
    "epLoAlDF.plot.line(x='Epoch', y= 'Loss', c='r')\n",
    "plt.xlabel('Epoch')\n",
    "plt.ylabel('Loss')\n",
    "plt.title('Skipgram Model for Alice in Wonderland')\n",
    "plt.show()\n",
    "\n",
    "#Loss decreases steadily "
   ]
  },
  {
   "cell_type": "code",
   "execution_count": 30,
   "metadata": {},
   "outputs": [
    {
     "name": "stdout",
     "output_type": "stream",
     "text": [
      "(3054, 3054)\n"
     ]
    },
    {
     "data": {
      "text/plain": [
       "{'desk': ['conduct', 'cold', 'hate—c', 'bough', 'softly'],\n",
       " 'soldiers': ['else', 'tree', 'repeated', 'eagerly', 'shouted'],\n",
       " 'gryphon': ['should', 'large', 'eyes', 'like', 'they'],\n",
       " 'hatter': ['hare', 'shall', 'mock', 'was', 'who'],\n",
       " 'cheshire': ['trial', 'eye', 'most', 'play', 'feel'],\n",
       " 'latitude': ['longitude', 'anger', 'underneath', 'directed', 'appear'],\n",
       " 'caterpillar': ['garden', 'house', 'till', 'indeed', 'behind'],\n",
       " 'evidence': ['yourself', 'pepper', '“when', 'give', 'nervous'],\n",
       " 'whiskers': ['messages', 'impossible', 'kick', 'flower', 'showing'],\n",
       " 'alice': ['ever', 'if', '“and', 'at', 'so']}"
      ]
     },
     "execution_count": 30,
     "metadata": {},
     "output_type": "execute_result"
    }
   ],
   "source": [
    "#Check for context relevancy by computing euclidean distance between weights\n",
    "\n",
    "\n",
    "from sklearn.metrics.pairwise import euclidean_distances\n",
    "\n",
    "weights_alice = model_alice.get_weights()[0]\n",
    "weights_alice = weights_alice[1:]\n",
    "distance_matrix_alice = euclidean_distances(weights_alice)\n",
    "print(distance_matrix_alice.shape)\n",
    "\n",
    "similar_words_alice = {search_term: [id2wordAl[idx] for idx in distance_matrix_alice[word2idAl[search_term]-1].argsort()[1:6]+1] \n",
    "                   for search_term in ['desk','soldiers','gryphon','hatter','cheshire','latitude', 'caterpillar','evidence','whiskers','alice' ]}\n",
    "\n",
    "similar_words_alice"
   ]
  },
  {
   "cell_type": "code",
   "execution_count": 25,
   "metadata": {},
   "outputs": [],
   "source": [
    "#This model produces context relevant text as options for each of the words. \n",
    "#Results are better compared to CBOW model."
   ]
  },
  {
   "cell_type": "code",
   "execution_count": 28,
   "metadata": {},
   "outputs": [
    {
     "name": "stdout",
     "output_type": "stream",
     "text": [
      "Total words: 60 \tWord Embedding shapes: (60, 100)\n"
     ]
    },
    {
     "data": {
      "image/png": "[encoded data removed]",
      "text/plain": [
       "<Figure size 1440x720 with 1 Axes>"
      ]
     },
     "metadata": {
      "needs_background": "light"
     },
     "output_type": "display_data"
    }
   ],
   "source": [
    "#TSNE - t distributed stochastic neighbourhood embedding\n",
    "#Visualise the embeddings\n",
    "\n",
    "from sklearn.manifold import TSNE\n",
    "\n",
    "words = sum([[k] + v for k, v in similar_words_alice.items()], [])\n",
    "words_ids = [word2idAl[w] for w in words]\n",
    "word_vectors = np.array([weights_alice[idx] for idx in words_ids])\n",
    "print('Total words:', len(words), '\\tWord Embedding shapes:', word_vectors.shape)\n",
    "\n",
    "#Change perplexity values from 1 to 5\n",
    "tsne = TSNE(n_components=2, random_state=0, n_iter=10000, perplexity=2)\n",
    "np.set_printoptions(suppress=True)\n",
    "T = tsne.fit_transform(word_vectors)\n",
    "labels = words\n",
    "\n",
    "plt.figure(figsize=(20, 10))\n",
    "plt.scatter(T[:, 0], T[:, 1], c='steelblue', edgecolors='b')\n",
    "for label, x, y in zip(labels, T[:, 0], T[:, 1]):\n",
    "    plt.annotate(label, xy=(x+1, y+1), xytext=(0, 0), textcoords='offset points')"
   ]
  },
  {
   "cell_type": "code",
   "execution_count": null,
   "metadata": {},
   "outputs": [],
   "source": [
    "#Different words of contextual similarity are positioned near each other\n",
    "\n",
    "#Say  latitude and longitude \n",
    "\n",
    "#Change model perplexity values from 1 to 5 and observe different visualisations\n",
    "\n",
    "##################################################################################################\n",
    "##IT IS DIFFICULT TO REPRODUCE THE SAME RESULT FOR THE FOLLOWING REASONS:\n",
    "    #SKIPGRAMS ARE GENERATED RANDOMLY (ONLY THE NUMBER OF SKIPGRAMS GENERATED IS FIXED)\n",
    "    #TRAINING THE MODEL FOR MORE OR LESS EPOCHS WILL CHANGE THE RESULT\n",
    "##################################################################################################"
   ]
  }
 ],
 "metadata": {
  "kernelspec": {
   "display_name": "Python 3",
   "language": "python",
   "name": "python3"
  },
  "language_info": {
   "codemirror_mode": {
    "name": "ipython",
    "version": 3
   },
   "file_extension": ".py",
   "mimetype": "text/x-python",
   "name": "python",
   "nbconvert_exporter": "python",
   "pygments_lexer": "ipython3",
   "version": "3.8.3"
  }
 },
 "nbformat": 4,
 "nbformat_minor": 4
}
